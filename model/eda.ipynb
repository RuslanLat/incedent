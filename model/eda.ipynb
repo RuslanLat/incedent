{
 "cells": [
  {
   "cell_type": "code",
   "execution_count": 1,
   "metadata": {},
   "outputs": [],
   "source": [
    "import pandas as pd\n",
    "from pony.orm import *\n",
    "from models import db"
   ]
  },
  {
   "cell_type": "code",
   "execution_count": 2,
   "metadata": {},
   "outputs": [
    {
     "data": {
      "text/html": [
       "<div>\n",
       "<style scoped>\n",
       "    .dataframe tbody tr th:only-of-type {\n",
       "        vertical-align: middle;\n",
       "    }\n",
       "\n",
       "    .dataframe tbody tr th {\n",
       "        vertical-align: top;\n",
       "    }\n",
       "\n",
       "    .dataframe thead th {\n",
       "        text-align: right;\n",
       "    }\n",
       "</style>\n",
       "<table border=\"1\" class=\"dataframe\">\n",
       "  <thead>\n",
       "    <tr style=\"text-align: right;\">\n",
       "      <th></th>\n",
       "      <th>Источник</th>\n",
       "      <th>Адрес_y</th>\n",
       "      <th>Год постройки</th>\n",
       "      <th>Серия проекта</th>\n",
       "      <th>Количество этажей</th>\n",
       "      <th>Количество подъездов</th>\n",
       "      <th>Общая площадь</th>\n",
       "      <th>Общая площадь жилых помещений</th>\n",
       "      <th>Общая площадь нежилых помещений</th>\n",
       "      <th>Материал стен</th>\n",
       "      <th>Количество пассажирских лифтов</th>\n",
       "      <th>Количество грузопассажирских лифтов</th>\n",
       "      <th>Статус МКД</th>\n",
       "      <th>Количество грузовых лифтов</th>\n",
       "      <th>target</th>\n",
       "    </tr>\n",
       "  </thead>\n",
       "  <tbody>\n",
       "    <tr>\n",
       "      <th>0</th>\n",
       "      <td>ASUPR</td>\n",
       "      <td>Дом по адресу Сиреневый бульв., д.73, к.1</td>\n",
       "      <td>1969</td>\n",
       "      <td>П-29</td>\n",
       "      <td>9</td>\n",
       "      <td>4</td>\n",
       "      <td>6718</td>\n",
       "      <td>5639</td>\n",
       "      <td>1079</td>\n",
       "      <td>кирпичные</td>\n",
       "      <td>4</td>\n",
       "      <td>0</td>\n",
       "      <td>в эксплуатации</td>\n",
       "      <td>0</td>\n",
       "      <td>1</td>\n",
       "    </tr>\n",
       "    <tr>\n",
       "      <th>1</th>\n",
       "      <td>ASUPR</td>\n",
       "      <td>Дом по адресу Сиреневый бульв., д.73, к.1</td>\n",
       "      <td>1969</td>\n",
       "      <td>П-29</td>\n",
       "      <td>9</td>\n",
       "      <td>4</td>\n",
       "      <td>6718</td>\n",
       "      <td>5639</td>\n",
       "      <td>1079</td>\n",
       "      <td>кирпичные</td>\n",
       "      <td>4</td>\n",
       "      <td>0</td>\n",
       "      <td>в эксплуатации</td>\n",
       "      <td>0</td>\n",
       "      <td>1</td>\n",
       "    </tr>\n",
       "    <tr>\n",
       "      <th>2</th>\n",
       "      <td>ASUPR</td>\n",
       "      <td>Дом по адресу Сиреневый бульв., д.73, к.1</td>\n",
       "      <td>1969</td>\n",
       "      <td>П-29</td>\n",
       "      <td>9</td>\n",
       "      <td>4</td>\n",
       "      <td>6718</td>\n",
       "      <td>5639</td>\n",
       "      <td>1079</td>\n",
       "      <td>кирпичные</td>\n",
       "      <td>4</td>\n",
       "      <td>0</td>\n",
       "      <td>в эксплуатации</td>\n",
       "      <td>0</td>\n",
       "      <td>1</td>\n",
       "    </tr>\n",
       "    <tr>\n",
       "      <th>3</th>\n",
       "      <td>ASUPR</td>\n",
       "      <td>Дом по адресу Сиреневый бульв., д.73, к.1</td>\n",
       "      <td>1969</td>\n",
       "      <td>П-29</td>\n",
       "      <td>9</td>\n",
       "      <td>4</td>\n",
       "      <td>6718</td>\n",
       "      <td>5639</td>\n",
       "      <td>1079</td>\n",
       "      <td>кирпичные</td>\n",
       "      <td>4</td>\n",
       "      <td>0</td>\n",
       "      <td>в эксплуатации</td>\n",
       "      <td>0</td>\n",
       "      <td>1</td>\n",
       "    </tr>\n",
       "    <tr>\n",
       "      <th>4</th>\n",
       "      <td>ASUPR</td>\n",
       "      <td>Дом по адресу Сиреневый бульв., д.73, к.1</td>\n",
       "      <td>1969</td>\n",
       "      <td>П-29</td>\n",
       "      <td>9</td>\n",
       "      <td>4</td>\n",
       "      <td>6718</td>\n",
       "      <td>5639</td>\n",
       "      <td>1079</td>\n",
       "      <td>кирпичные</td>\n",
       "      <td>4</td>\n",
       "      <td>0</td>\n",
       "      <td>в эксплуатации</td>\n",
       "      <td>0</td>\n",
       "      <td>1</td>\n",
       "    </tr>\n",
       "  </tbody>\n",
       "</table>\n",
       "</div>"
      ],
      "text/plain": [
       "  Источник                                    Адрес_y  Год постройки   \n",
       "0    ASUPR  Дом по адресу Сиреневый бульв., д.73, к.1           1969  \\\n",
       "1    ASUPR  Дом по адресу Сиреневый бульв., д.73, к.1           1969   \n",
       "2    ASUPR  Дом по адресу Сиреневый бульв., д.73, к.1           1969   \n",
       "3    ASUPR  Дом по адресу Сиреневый бульв., д.73, к.1           1969   \n",
       "4    ASUPR  Дом по адресу Сиреневый бульв., д.73, к.1           1969   \n",
       "\n",
       "  Серия проекта  Количество этажей  Количество подъездов  Общая площадь   \n",
       "0          П-29                  9                     4           6718  \\\n",
       "1          П-29                  9                     4           6718   \n",
       "2          П-29                  9                     4           6718   \n",
       "3          П-29                  9                     4           6718   \n",
       "4          П-29                  9                     4           6718   \n",
       "\n",
       "   Общая площадь жилых помещений  Общая площадь нежилых помещений   \n",
       "0                           5639                             1079  \\\n",
       "1                           5639                             1079   \n",
       "2                           5639                             1079   \n",
       "3                           5639                             1079   \n",
       "4                           5639                             1079   \n",
       "\n",
       "  Материал стен  Количество пассажирских лифтов   \n",
       "0     кирпичные                               4  \\\n",
       "1     кирпичные                               4   \n",
       "2     кирпичные                               4   \n",
       "3     кирпичные                               4   \n",
       "4     кирпичные                               4   \n",
       "\n",
       "   Количество грузопассажирских лифтов      Статус МКД   \n",
       "0                                    0  в эксплуатации  \\\n",
       "1                                    0  в эксплуатации   \n",
       "2                                    0  в эксплуатации   \n",
       "3                                    0  в эксплуатации   \n",
       "4                                    0  в эксплуатации   \n",
       "\n",
       "   Количество грузовых лифтов  target  \n",
       "0                           0       1  \n",
       "1                           0       1  \n",
       "2                           0       1  \n",
       "3                           0       1  \n",
       "4                           0       1  "
      ]
     },
     "execution_count": 2,
     "metadata": {},
     "output_type": "execute_result"
    }
   ],
   "source": [
    "df_train = pd.read_csv(\"df_train.csv\")\n",
    "df_train.head()"
   ]
  },
  {
   "cell_type": "code",
   "execution_count": 3,
   "metadata": {},
   "outputs": [],
   "source": [
    "df = df_train.iloc[:,:-1]"
   ]
  },
  {
   "cell_type": "code",
   "execution_count": 4,
   "metadata": {},
   "outputs": [],
   "source": [
    "df.columns = [\"Источник\", \"Адрес\", \"Год постройки\", \"Серия проекта\",\n",
    "    \"Количество этажей\", \"Количество подъездов\",\n",
    "    \"Общая площадь\", \"Общая площадь жилых помещений\",\n",
    "    \"Общая площадь нежилых помещений\", \"Материал стен\",\n",
    "    \"Количество пассажирских лифтов\",\n",
    "    \"Количество грузопассажирских лифтов\", \"Статус МКД\",\n",
    "    \"Количество грузовых лифтов\"]"
   ]
  },
  {
   "cell_type": "code",
   "execution_count": 5,
   "metadata": {},
   "outputs": [
    {
     "data": {
      "text/html": [
       "<div>\n",
       "<style scoped>\n",
       "    .dataframe tbody tr th:only-of-type {\n",
       "        vertical-align: middle;\n",
       "    }\n",
       "\n",
       "    .dataframe tbody tr th {\n",
       "        vertical-align: top;\n",
       "    }\n",
       "\n",
       "    .dataframe thead th {\n",
       "        text-align: right;\n",
       "    }\n",
       "</style>\n",
       "<table border=\"1\" class=\"dataframe\">\n",
       "  <thead>\n",
       "    <tr style=\"text-align: right;\">\n",
       "      <th></th>\n",
       "      <th>Источник</th>\n",
       "      <th>Адрес</th>\n",
       "      <th>Год постройки</th>\n",
       "      <th>Серия проекта</th>\n",
       "      <th>Количество этажей</th>\n",
       "      <th>Количество подъездов</th>\n",
       "      <th>Общая площадь</th>\n",
       "      <th>Общая площадь жилых помещений</th>\n",
       "      <th>Общая площадь нежилых помещений</th>\n",
       "      <th>Материал стен</th>\n",
       "      <th>Количество пассажирских лифтов</th>\n",
       "      <th>Количество грузопассажирских лифтов</th>\n",
       "      <th>Статус МКД</th>\n",
       "      <th>Количество грузовых лифтов</th>\n",
       "    </tr>\n",
       "  </thead>\n",
       "  <tbody>\n",
       "    <tr>\n",
       "      <th>0</th>\n",
       "      <td>ASUPR</td>\n",
       "      <td>Дом по адресу Сиреневый бульв., д.73, к.1</td>\n",
       "      <td>1969</td>\n",
       "      <td>П-29</td>\n",
       "      <td>9</td>\n",
       "      <td>4</td>\n",
       "      <td>6718</td>\n",
       "      <td>5639</td>\n",
       "      <td>1079</td>\n",
       "      <td>кирпичные</td>\n",
       "      <td>4</td>\n",
       "      <td>0</td>\n",
       "      <td>в эксплуатации</td>\n",
       "      <td>0</td>\n",
       "    </tr>\n",
       "    <tr>\n",
       "      <th>1</th>\n",
       "      <td>ASUPR</td>\n",
       "      <td>Дом по адресу Сиреневый бульв., д.73, к.1</td>\n",
       "      <td>1969</td>\n",
       "      <td>П-29</td>\n",
       "      <td>9</td>\n",
       "      <td>4</td>\n",
       "      <td>6718</td>\n",
       "      <td>5639</td>\n",
       "      <td>1079</td>\n",
       "      <td>кирпичные</td>\n",
       "      <td>4</td>\n",
       "      <td>0</td>\n",
       "      <td>в эксплуатации</td>\n",
       "      <td>0</td>\n",
       "    </tr>\n",
       "    <tr>\n",
       "      <th>2</th>\n",
       "      <td>ASUPR</td>\n",
       "      <td>Дом по адресу Сиреневый бульв., д.73, к.1</td>\n",
       "      <td>1969</td>\n",
       "      <td>П-29</td>\n",
       "      <td>9</td>\n",
       "      <td>4</td>\n",
       "      <td>6718</td>\n",
       "      <td>5639</td>\n",
       "      <td>1079</td>\n",
       "      <td>кирпичные</td>\n",
       "      <td>4</td>\n",
       "      <td>0</td>\n",
       "      <td>в эксплуатации</td>\n",
       "      <td>0</td>\n",
       "    </tr>\n",
       "    <tr>\n",
       "      <th>3</th>\n",
       "      <td>ASUPR</td>\n",
       "      <td>Дом по адресу Сиреневый бульв., д.73, к.1</td>\n",
       "      <td>1969</td>\n",
       "      <td>П-29</td>\n",
       "      <td>9</td>\n",
       "      <td>4</td>\n",
       "      <td>6718</td>\n",
       "      <td>5639</td>\n",
       "      <td>1079</td>\n",
       "      <td>кирпичные</td>\n",
       "      <td>4</td>\n",
       "      <td>0</td>\n",
       "      <td>в эксплуатации</td>\n",
       "      <td>0</td>\n",
       "    </tr>\n",
       "    <tr>\n",
       "      <th>4</th>\n",
       "      <td>ASUPR</td>\n",
       "      <td>Дом по адресу Сиреневый бульв., д.73, к.1</td>\n",
       "      <td>1969</td>\n",
       "      <td>П-29</td>\n",
       "      <td>9</td>\n",
       "      <td>4</td>\n",
       "      <td>6718</td>\n",
       "      <td>5639</td>\n",
       "      <td>1079</td>\n",
       "      <td>кирпичные</td>\n",
       "      <td>4</td>\n",
       "      <td>0</td>\n",
       "      <td>в эксплуатации</td>\n",
       "      <td>0</td>\n",
       "    </tr>\n",
       "  </tbody>\n",
       "</table>\n",
       "</div>"
      ],
      "text/plain": [
       "  Источник                                      Адрес  Год постройки   \n",
       "0    ASUPR  Дом по адресу Сиреневый бульв., д.73, к.1           1969  \\\n",
       "1    ASUPR  Дом по адресу Сиреневый бульв., д.73, к.1           1969   \n",
       "2    ASUPR  Дом по адресу Сиреневый бульв., д.73, к.1           1969   \n",
       "3    ASUPR  Дом по адресу Сиреневый бульв., д.73, к.1           1969   \n",
       "4    ASUPR  Дом по адресу Сиреневый бульв., д.73, к.1           1969   \n",
       "\n",
       "  Серия проекта  Количество этажей  Количество подъездов  Общая площадь   \n",
       "0          П-29                  9                     4           6718  \\\n",
       "1          П-29                  9                     4           6718   \n",
       "2          П-29                  9                     4           6718   \n",
       "3          П-29                  9                     4           6718   \n",
       "4          П-29                  9                     4           6718   \n",
       "\n",
       "   Общая площадь жилых помещений  Общая площадь нежилых помещений   \n",
       "0                           5639                             1079  \\\n",
       "1                           5639                             1079   \n",
       "2                           5639                             1079   \n",
       "3                           5639                             1079   \n",
       "4                           5639                             1079   \n",
       "\n",
       "  Материал стен  Количество пассажирских лифтов   \n",
       "0     кирпичные                               4  \\\n",
       "1     кирпичные                               4   \n",
       "2     кирпичные                               4   \n",
       "3     кирпичные                               4   \n",
       "4     кирпичные                               4   \n",
       "\n",
       "   Количество грузопассажирских лифтов      Статус МКД   \n",
       "0                                    0  в эксплуатации  \\\n",
       "1                                    0  в эксплуатации   \n",
       "2                                    0  в эксплуатации   \n",
       "3                                    0  в эксплуатации   \n",
       "4                                    0  в эксплуатации   \n",
       "\n",
       "   Количество грузовых лифтов  \n",
       "0                           0  \n",
       "1                           0  \n",
       "2                           0  \n",
       "3                           0  \n",
       "4                           0  "
      ]
     },
     "execution_count": 5,
     "metadata": {},
     "output_type": "execute_result"
    }
   ],
   "source": [
    "df.head()"
   ]
  },
  {
   "cell_type": "code",
   "execution_count": 6,
   "metadata": {},
   "outputs": [],
   "source": [
    "df.to_csv(\"df_web.csv\", index=False)"
   ]
  },
  {
   "cell_type": "code",
   "execution_count": 8,
   "metadata": {},
   "outputs": [
    {
     "data": {
      "text/plain": [
       "Источник                               object\n",
       "Адрес                                  object\n",
       "Год постройки                           int64\n",
       "Серия проекта                          object\n",
       "Количество этажей                       int64\n",
       "Количество подъездов                    int64\n",
       "Общая площадь                           int64\n",
       "Общая площадь жилых помещений           int64\n",
       "Общая площадь нежилых помещений         int64\n",
       "Материал стен                          object\n",
       "Количество пассажирских лифтов          int64\n",
       "Количество грузопассажирских лифтов     int64\n",
       "Статус МКД                             object\n",
       "Количество грузовых лифтов              int64\n",
       "dtype: object"
      ]
     },
     "execution_count": 8,
     "metadata": {},
     "output_type": "execute_result"
    }
   ],
   "source": [
    "df.dtypes"
   ]
  },
  {
   "cell_type": "code",
   "execution_count": 9,
   "metadata": {},
   "outputs": [
    {
     "data": {
      "text/plain": [
       "Источник                               0\n",
       "Адрес                                  0\n",
       "Год постройки                          0\n",
       "Серия проекта                          0\n",
       "Количество этажей                      0\n",
       "Количество подъездов                   0\n",
       "Общая площадь                          0\n",
       "Общая площадь жилых помещений          0\n",
       "Общая площадь нежилых помещений        0\n",
       "Материал стен                          0\n",
       "Количество пассажирских лифтов         0\n",
       "Количество грузопассажирских лифтов    0\n",
       "Статус МКД                             0\n",
       "Количество грузовых лифтов             0\n",
       "dtype: int64"
      ]
     },
     "execution_count": 9,
     "metadata": {},
     "output_type": "execute_result"
    }
   ],
   "source": [
    "df.isna().sum()"
   ]
  },
  {
   "cell_type": "code",
   "execution_count": 10,
   "metadata": {},
   "outputs": [
    {
     "name": "stdout",
     "output_type": "stream",
     "text": [
      "id|s...|a...|year|p...|f...|e...|area|a...|a...|m...|e...|c...|s...|f...\n",
      "--+----+----+----+----+----+----+----+----+----+----+----+----+----+----\n"
     ]
    }
   ],
   "source": [
    "# вывод таблицы 'systems'\n",
    "db.Train.select().show()"
   ]
  },
  {
   "cell_type": "code",
   "execution_count": 15,
   "metadata": {},
   "outputs": [],
   "source": [
    "@db_session\n",
    "def add_train(source, address, year, project_series, floors,\n",
    "            entrance, area, area_residential, area_non_residential,\n",
    "            material, elevator, cargo, status, freight):\n",
    "\n",
    "    \"\"\" функуия записи адресов в таблицу - 'trais' \"\"\"\n",
    "    \n",
    "    db.Train(source=source, address=address, year=year,\n",
    "            project_series=project_series, floors=floors,\n",
    "            entrance=entrance, area=area, area_residential=area_residential,\n",
    "            area_non_residential=area_non_residential,\n",
    "            material=material, elevator=elevator, cargo=cargo,\n",
    "            status=status, freight=freight)\n",
    "    # commit() will be done automatically\n",
    "    # database session cache will be cleared automatically\n",
    "    # database connection will be returned to the pool"
   ]
  },
  {
   "cell_type": "code",
   "execution_count": 12,
   "metadata": {},
   "outputs": [
    {
     "data": {
      "text/plain": [
       "array([['ASUPR', 'Дом по адресу Сиреневый бульв., д.73, к.1', 1969,\n",
       "        'П-29', 9, 4, 6718, 5639, 1079, 'кирпичные', 4, 0,\n",
       "        'в эксплуатации', 0],\n",
       "       ['ASUPR', 'Дом по адресу Сиреневый бульв., д.73, к.1', 1969,\n",
       "        'П-29', 9, 4, 6718, 5639, 1079, 'кирпичные', 4, 0,\n",
       "        'в эксплуатации', 0]], dtype=object)"
      ]
     },
     "execution_count": 12,
     "metadata": {},
     "output_type": "execute_result"
    }
   ],
   "source": [
    "data_train = df.values\n",
    "data_train[:2]"
   ]
  },
  {
   "cell_type": "code",
   "execution_count": 16,
   "metadata": {},
   "outputs": [],
   "source": [
    "# запись данных в базу данных\n",
    "for source, address, year, project_series, floors, \\\n",
    "    entrance, area, area_residential, area_non_residential, \\\n",
    "    material, elevator, cargo, status, freight in data_train:\n",
    "    add_train(source=source, address=address, year=year,\n",
    "            project_series=project_series, floors=floors,\n",
    "            entrance=entrance, area=area, area_residential=area_residential,\n",
    "            area_non_residential=area_non_residential,\n",
    "            material=material, elevator=elevator, cargo=cargo,\n",
    "            status=status, freight=freight)"
   ]
  },
  {
   "cell_type": "code",
   "execution_count": 17,
   "metadata": {},
   "outputs": [
    {
     "name": "stdout",
     "output_type": "stream",
     "text": [
      "id|s...|a...|year|p...|f...|e...|area|a...|a...|m...|e...|c...|s...|f...\n",
      "--+----+----+----+----+----+----+----+----+----+----+----+----+----+----\n",
      "1 |A...|Д...|1969|П-29|9   |4   |6718|5639|1079|к...|4   |0   |в...|0   \n",
      "2 |A...|Д...|1969|П-29|9   |4   |6718|5639|1079|к...|4   |0   |в...|0   \n",
      "3 |A...|Д...|1969|П-29|9   |4   |6718|5639|1079|к...|4   |0   |в...|0   \n",
      "4 |A...|Д...|1969|П-29|9   |4   |6718|5639|1079|к...|4   |0   |в...|0   \n",
      "5 |A...|Д...|1969|П-29|9   |4   |6718|5639|1079|к...|4   |0   |в...|0   \n",
      "6 |A...|Д...|1969|П-29|9   |4   |6718|5639|1079|к...|4   |0   |в...|0   \n",
      "7 |A...|Д...|1969|П-29|9   |4   |6718|5639|1079|к...|4   |0   |в...|0   \n",
      "8 |A...|Д...|1969|П-29|9   |4   |6718|5639|1079|к...|4   |0   |в...|0   \n",
      "9 |A...|Д...|1969|П-29|9   |4   |6718|5639|1079|к...|4   |0   |в...|0   \n",
      "10|A...|Д...|1969|П-29|9   |4   |6718|5639|1079|к...|4   |0   |в...|0   \n"
     ]
    }
   ],
   "source": [
    "# проверка записи данных\n",
    "db.Train.select()[:10].show()"
   ]
  },
  {
   "cell_type": "code",
   "execution_count": 18,
   "metadata": {},
   "outputs": [
    {
     "data": {
      "text/plain": [
       "(39942, 39942)"
      ]
     },
     "execution_count": 18,
     "metadata": {},
     "output_type": "execute_result"
    }
   ],
   "source": [
    "# проверка записи данных\n",
    "db.select(\"select count(*) from train\")[0], len(data_train)"
   ]
  },
  {
   "cell_type": "code",
   "execution_count": null,
   "metadata": {},
   "outputs": [],
   "source": [
    "d = pd.DataFrame(db.Train.select()[:10].show())"
   ]
  },
  {
   "cell_type": "code",
   "execution_count": null,
   "metadata": {},
   "outputs": [],
   "source": [
    "d.columns"
   ]
  },
  {
   "cell_type": "code",
   "execution_count": null,
   "metadata": {},
   "outputs": [],
   "source": [
    "import psycopg2"
   ]
  },
  {
   "cell_type": "code",
   "execution_count": null,
   "metadata": {},
   "outputs": [],
   "source": [
    "import os\n",
    "from dotenv import load_dotenv\n",
    "load_dotenv()\n",
    "\n",
    "\n",
    "DB_HOST = os.getenv(\"DB_HOST\")\n",
    "DB_PORT = os.getenv(\"DB_PORT\")\n",
    "DB_NAME = os.getenv(\"DB_NAME\")\n",
    "DB_USER = os.getenv(\"DB_USER\")\n",
    "DB_PASSWORD = os.getenv(\"DB_PASSWORD\")"
   ]
  },
  {
   "cell_type": "code",
   "execution_count": null,
   "metadata": {},
   "outputs": [],
   "source": [
    "# создание подключения к базе данны\n",
    "connect = psycopg2.connect(database=DB_NAME,\n",
    "                           user=DB_USER,\n",
    "                           password=DB_PASSWORD,\n",
    "                           host=DB_HOST,\n",
    "                           port=DB_PORT)"
   ]
  },
  {
   "cell_type": "code",
   "execution_count": null,
   "metadata": {},
   "outputs": [],
   "source": [
    "# создание объекта курсора подключения к базе данных\n",
    "cursor = connect.cursor()"
   ]
  },
  {
   "cell_type": "code",
   "execution_count": null,
   "metadata": {},
   "outputs": [],
   "source": [
    "cursor.execute(\"SELECT * \\\n",
    "                FROM train;\")\n",
    "train_data = cursor.fetchall()"
   ]
  },
  {
   "cell_type": "code",
   "execution_count": null,
   "metadata": {},
   "outputs": [],
   "source": [
    "dict(train_data = train_data)"
   ]
  },
  {
   "cell_type": "code",
   "execution_count": null,
   "metadata": {},
   "outputs": [],
   "source": [
    "# преобразование в DataFrame\n",
    "df = pd.DataFrame(train_data, columns=[_.name for _ in cursor.description])\n",
    "df.head()"
   ]
  }
 ],
 "metadata": {
  "kernelspec": {
   "display_name": "venv",
   "language": "python",
   "name": "python3"
  },
  "language_info": {
   "codemirror_mode": {
    "name": "ipython",
    "version": 3
   },
   "file_extension": ".py",
   "mimetype": "text/x-python",
   "name": "python",
   "nbconvert_exporter": "python",
   "pygments_lexer": "ipython3",
   "version": "3.11.3"
  },
  "orig_nbformat": 4
 },
 "nbformat": 4,
 "nbformat_minor": 2
}
