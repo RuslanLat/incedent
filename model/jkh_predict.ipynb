{
 "cells": [
  {
   "cell_type": "code",
   "execution_count": 1,
   "id": "8dc21de2",
   "metadata": {},
   "outputs": [],
   "source": [
    "import pandas as pd\n",
    "import numpy as np\n",
    "import pickle\n",
    "from catboost import CatBoostClassifier"
   ]
  },
  {
   "cell_type": "code",
   "execution_count": 2,
   "id": "0f9f4498",
   "metadata": {
    "scrolled": false
   },
   "outputs": [
    {
     "data": {
      "text/html": [
       "<div>\n",
       "<style scoped>\n",
       "    .dataframe tbody tr th:only-of-type {\n",
       "        vertical-align: middle;\n",
       "    }\n",
       "\n",
       "    .dataframe tbody tr th {\n",
       "        vertical-align: top;\n",
       "    }\n",
       "\n",
       "    .dataframe thead th {\n",
       "        text-align: right;\n",
       "    }\n",
       "</style>\n",
       "<table border=\"1\" class=\"dataframe\">\n",
       "  <thead>\n",
       "    <tr style=\"text-align: right;\">\n",
       "      <th></th>\n",
       "      <th>Источник</th>\n",
       "      <th>Адрес_y</th>\n",
       "      <th>Год постройки</th>\n",
       "      <th>Серия проекта</th>\n",
       "      <th>Количество этажей</th>\n",
       "      <th>Количество подъездов</th>\n",
       "      <th>Общая площадь</th>\n",
       "      <th>Общая площадь жилых помещений</th>\n",
       "      <th>Общая площадь нежилых помещений</th>\n",
       "      <th>Материал стен</th>\n",
       "      <th>Количество пассажирских лифтов</th>\n",
       "      <th>Количество грузопассажирских лифтов</th>\n",
       "      <th>Статус МКД</th>\n",
       "      <th>Количество грузовых лифтов</th>\n",
       "    </tr>\n",
       "  </thead>\n",
       "  <tbody>\n",
       "    <tr>\n",
       "      <th>0</th>\n",
       "      <td>EDC</td>\n",
       "      <td>Дом по адресу Чусовская ул., д.5</td>\n",
       "      <td>1971</td>\n",
       "      <td>индивидуальный проект</td>\n",
       "      <td>14</td>\n",
       "      <td>1</td>\n",
       "      <td>5480</td>\n",
       "      <td>5457</td>\n",
       "      <td>23</td>\n",
       "      <td>кирпичные</td>\n",
       "      <td>1</td>\n",
       "      <td>1</td>\n",
       "      <td>в эксплуатации</td>\n",
       "      <td>0</td>\n",
       "    </tr>\n",
       "  </tbody>\n",
       "</table>\n",
       "</div>"
      ],
      "text/plain": [
       "  Источник                           Адрес_y  Год постройки  \\\n",
       "0      EDC  Дом по адресу Чусовская ул., д.5           1971   \n",
       "\n",
       "           Серия проекта  Количество этажей  Количество подъездов  \\\n",
       "0  индивидуальный проект                 14                     1   \n",
       "\n",
       "   Общая площадь  Общая площадь жилых помещений  \\\n",
       "0           5480                           5457   \n",
       "\n",
       "   Общая площадь нежилых помещений Материал стен  \\\n",
       "0                               23     кирпичные   \n",
       "\n",
       "   Количество пассажирских лифтов  Количество грузопассажирских лифтов  \\\n",
       "0                               1                                    1   \n",
       "\n",
       "       Статус МКД  Количество грузовых лифтов  \n",
       "0  в эксплуатации                           0  "
      ]
     },
     "execution_count": 2,
     "metadata": {},
     "output_type": "execute_result"
    }
   ],
   "source": [
    "#загрузка инфо для предсказания события\n",
    "df = pd.read_csv('df_for_pred.csv')\n",
    "df"
   ]
  },
  {
   "cell_type": "code",
   "execution_count": 3,
   "id": "f1150fbc",
   "metadata": {},
   "outputs": [
    {
     "name": "stdout",
     "output_type": "stream",
     "text": [
      "Предсказанный тип события - 1\n"
     ]
    }
   ],
   "source": [
    "#загрузка модели и вывод предсказание\n",
    "with open('jkh_catboost.pkl', 'rb') as file:\n",
    "    model = pickle.load(file)\n",
    "pred = model.predict(df)\n",
    "print('Предсказанный тип события -', pred[0][0])"
   ]
  },
  {
   "cell_type": "code",
   "execution_count": null,
   "id": "9349773a",
   "metadata": {},
   "outputs": [],
   "source": []
  }
 ],
 "metadata": {
  "kernelspec": {
   "display_name": "Python 3 (ipykernel)",
   "language": "python",
   "name": "python3"
  },
  "language_info": {
   "codemirror_mode": {
    "name": "ipython",
    "version": 3
   },
   "file_extension": ".py",
   "mimetype": "text/x-python",
   "name": "python",
   "nbconvert_exporter": "python",
   "pygments_lexer": "ipython3",
   "version": "3.8.10"
  }
 },
 "nbformat": 4,
 "nbformat_minor": 5
}
