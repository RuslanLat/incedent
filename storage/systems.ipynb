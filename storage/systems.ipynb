{
 "cells": [
  {
   "cell_type": "code",
   "execution_count": 24,
   "metadata": {},
   "outputs": [],
   "source": [
    "# импорт необходимых библиотек\n",
    "import pandas as pd\n",
    "import os\n",
    "from docx import Document\n",
    "from pony.orm import *\n",
    "from models import db"
   ]
  },
  {
   "cell_type": "code",
   "execution_count": 25,
   "metadata": {},
   "outputs": [],
   "source": [
    "# путь к файлам\n",
    "PACH_DATA = \"../raw_data/\""
   ]
  },
  {
   "cell_type": "code",
   "execution_count": 26,
   "metadata": {},
   "outputs": [
    {
     "data": {
      "text/plain": [
       "['1_Многоквартирные дома с технико-экономическими характеристиками.xlsx',\n",
       " '2_Инциденты,_зарегистрированные_на_объектах_городского_хозяйства (2).xlsx',\n",
       " '2_Инциденты,_зарегистрированные_на_объектах_городского_хозяйства.xlsx',\n",
       " '3_Работы по капитальному ремонту, проведенные в многоквартирных домах.xlsx',\n",
       " '4_Виды работ по капитальному ремонту многоквартирных домов.xlsx',\n",
       " '4_Виды работ по содержанию и ремонту общего имущества многоквартирных домов.xlsx',\n",
       " '4_Виды_работ_по_капитальному_ремонту_многоквартирных_домов_с_фактом (3).xlsx',\n",
       " '5_Типы событий, регистрируемых по типу объекта многоквартирный дом.xlsx',\n",
       " 'Объекты_модели_Группы_видов_работ_по_содержанию_и_ремонту_общего.xlsx',\n",
       " 'Описание примеров данных.docx']"
      ]
     },
     "execution_count": 26,
     "metadata": {},
     "output_type": "execute_result"
    }
   ],
   "source": [
    "# вывод файлов директории \"data\"\n",
    "data_list = os.listdir(PACH_DATA)\n",
    "data_list"
   ]
  },
  {
   "attachments": {},
   "cell_type": "markdown",
   "metadata": {},
   "source": [
    "### Описание примеров данных"
   ]
  },
  {
   "cell_type": "code",
   "execution_count": 27,
   "metadata": {},
   "outputs": [],
   "source": [
    "# загрузка данных файла 'Описание примеров данных.docx'\n",
    "document = Document(PACH_DATA + data_list[-1])"
   ]
  },
  {
   "cell_type": "code",
   "execution_count": 28,
   "metadata": {},
   "outputs": [],
   "source": [
    "# парсинг таблиц данных файла 'Описание примеров данных.docx'\n",
    "df_tables = []\n",
    "for table in document.tables:\n",
    "    df = [['' for i in range(len(table.columns))] for j in range(len(table.rows))]\n",
    "    for i, row in enumerate(table.rows):\n",
    "        for j, cell in enumerate(row.cells):\n",
    "            if cell.text:\n",
    "                df[i][j] = cell.text\n",
    "    df_tables.append(pd.DataFrame(df[1:], columns=df[0]))"
   ]
  },
  {
   "cell_type": "code",
   "execution_count": 29,
   "metadata": {},
   "outputs": [
    {
     "data": {
      "text/plain": [
       "16"
      ]
     },
     "execution_count": 29,
     "metadata": {},
     "output_type": "execute_result"
    }
   ],
   "source": [
    "# количество обнаруженных таблиц\n",
    "len(df_tables)"
   ]
  },
  {
   "attachments": {},
   "cell_type": "markdown",
   "metadata": {},
   "source": [
    "### 5. Типы событий, регистрируемых по типу объекта многоквартирный дом"
   ]
  },
  {
   "cell_type": "code",
   "execution_count": 30,
   "metadata": {},
   "outputs": [
    {
     "data": {
      "text/plain": [
       "'5_Типы событий, регистрируемых по типу объекта многоквартирный дом.xlsx'"
      ]
     },
     "execution_count": 30,
     "metadata": {},
     "output_type": "execute_result"
    }
   ],
   "source": [
    "# путь к файлу\n",
    "data_list[7]"
   ]
  },
  {
   "cell_type": "code",
   "execution_count": 31,
   "metadata": {},
   "outputs": [
    {
     "name": "stdout",
     "output_type": "stream",
     "text": [
      "['Лист1']\n"
     ]
    }
   ],
   "source": [
    "# вывод наименование листов в файле \"5_Типы событий, регистрируемых по типу объекта многоквартирный дом.xlsx\"\n",
    "xlsx_file = pd.ExcelFile(PACH_DATA + data_list[7])\n",
    "sheet_names = xlsx_file.sheet_names\n",
    "print(sheet_names)"
   ]
  },
  {
   "cell_type": "code",
   "execution_count": 32,
   "metadata": {},
   "outputs": [
    {
     "data": {
      "text/html": [
       "<div>\n",
       "<style scoped>\n",
       "    .dataframe tbody tr th:only-of-type {\n",
       "        vertical-align: middle;\n",
       "    }\n",
       "\n",
       "    .dataframe tbody tr th {\n",
       "        vertical-align: top;\n",
       "    }\n",
       "\n",
       "    .dataframe thead th {\n",
       "        text-align: right;\n",
       "    }\n",
       "</style>\n",
       "<table border=\"1\" class=\"dataframe\">\n",
       "  <thead>\n",
       "    <tr style=\"text-align: right;\">\n",
       "      <th></th>\n",
       "      <th>id</th>\n",
       "      <th>name</th>\n",
       "      <th>system</th>\n",
       "    </tr>\n",
       "  </thead>\n",
       "  <tbody>\n",
       "    <tr>\n",
       "      <th>0</th>\n",
       "      <td>001b91e9-2ac5-4949-bff0-bb51d4f3057c</td>\n",
       "      <td>Нарушение в работе  АГВ</td>\n",
       "      <td>MOS_GAS</td>\n",
       "    </tr>\n",
       "    <tr>\n",
       "      <th>1</th>\n",
       "      <td>0089fd48-aa7a-443d-85a5-00470285b076</td>\n",
       "      <td>Проверить на загазованность дюкер Гольяновский</td>\n",
       "      <td>MOS_GAS</td>\n",
       "    </tr>\n",
       "    <tr>\n",
       "      <th>2</th>\n",
       "      <td>016697a2-feef-4568-9629-3c9dddae3aea</td>\n",
       "      <td>Разрушение асфальтового полотна вокруг ковера</td>\n",
       "      <td>MOS_GAS</td>\n",
       "    </tr>\n",
       "    <tr>\n",
       "      <th>3</th>\n",
       "      <td>02212d7e-3c4c-4e6a-8f6b-d4f8f1b82e72</td>\n",
       "      <td>Угроза взрыва; Запах газа в доме</td>\n",
       "      <td>MOS_GAS</td>\n",
       "    </tr>\n",
       "    <tr>\n",
       "      <th>4</th>\n",
       "      <td>0250d455-608a-4d63-9902-ebe3b82d0b67</td>\n",
       "      <td>Запах газа от ГРП</td>\n",
       "      <td>MOS_GAS</td>\n",
       "    </tr>\n",
       "  </tbody>\n",
       "</table>\n",
       "</div>"
      ],
      "text/plain": [
       "                                     id   \n",
       "0  001b91e9-2ac5-4949-bff0-bb51d4f3057c  \\\n",
       "1  0089fd48-aa7a-443d-85a5-00470285b076   \n",
       "2  016697a2-feef-4568-9629-3c9dddae3aea   \n",
       "3  02212d7e-3c4c-4e6a-8f6b-d4f8f1b82e72   \n",
       "4  0250d455-608a-4d63-9902-ebe3b82d0b67   \n",
       "\n",
       "                                             name   system  \n",
       "0                         Нарушение в работе  АГВ  MOS_GAS  \n",
       "1  Проверить на загазованность дюкер Гольяновский  MOS_GAS  \n",
       "2   Разрушение асфальтового полотна вокруг ковера  MOS_GAS  \n",
       "3                Угроза взрыва; Запах газа в доме  MOS_GAS  \n",
       "4                               Запах газа от ГРП  MOS_GAS  "
      ]
     },
     "execution_count": 32,
     "metadata": {},
     "output_type": "execute_result"
    }
   ],
   "source": [
    "# загрузка данных листа \"Лист1\" в файле \"5_Типы событий, регистрируемых по типу объекта многоквартирный дом.xlsx\"\n",
    "df_systems = pd.read_excel(PACH_DATA + data_list[7], sheet_name=\"Лист1\")\n",
    "df_systems.head()"
   ]
  },
  {
   "cell_type": "code",
   "execution_count": 33,
   "metadata": {},
   "outputs": [
    {
     "data": {
      "text/plain": [
       "(950, 3)"
      ]
     },
     "execution_count": 33,
     "metadata": {},
     "output_type": "execute_result"
    }
   ],
   "source": [
    "# размерность данных\n",
    "df_systems.shape"
   ]
  },
  {
   "cell_type": "code",
   "execution_count": 34,
   "metadata": {},
   "outputs": [
    {
     "data": {
      "text/plain": [
       "Index(['id', 'name', 'system'], dtype='object')"
      ]
     },
     "execution_count": 34,
     "metadata": {},
     "output_type": "execute_result"
    }
   ],
   "source": [
    "# признаки данных\n",
    "df_systems.columns"
   ]
  },
  {
   "cell_type": "code",
   "execution_count": 35,
   "metadata": {},
   "outputs": [
    {
     "data": {
      "text/html": [
       "<div>\n",
       "<style scoped>\n",
       "    .dataframe tbody tr th:only-of-type {\n",
       "        vertical-align: middle;\n",
       "    }\n",
       "\n",
       "    .dataframe tbody tr th {\n",
       "        vertical-align: top;\n",
       "    }\n",
       "\n",
       "    .dataframe thead th {\n",
       "        text-align: right;\n",
       "    }\n",
       "</style>\n",
       "<table border=\"1\" class=\"dataframe\">\n",
       "  <thead>\n",
       "    <tr style=\"text-align: right;\">\n",
       "      <th></th>\n",
       "      <th>Имя колонки</th>\n",
       "      <th>Комментарий</th>\n",
       "    </tr>\n",
       "  </thead>\n",
       "  <tbody>\n",
       "    <tr>\n",
       "      <th>0</th>\n",
       "      <td>id</td>\n",
       "      <td>Идентификатор</td>\n",
       "    </tr>\n",
       "    <tr>\n",
       "      <th>1</th>\n",
       "      <td>name</td>\n",
       "      <td>Наименование типа события</td>\n",
       "    </tr>\n",
       "    <tr>\n",
       "      <th>2</th>\n",
       "      <td>system</td>\n",
       "      <td>Информационная система – источник события</td>\n",
       "    </tr>\n",
       "  </tbody>\n",
       "</table>\n",
       "</div>"
      ],
      "text/plain": [
       "  Имя колонки                                Комментарий\n",
       "0          id                              Идентификатор\n",
       "1        name                  Наименование типа события\n",
       "2      system  Информационная система – источник события"
      ]
     },
     "execution_count": 35,
     "metadata": {},
     "output_type": "execute_result"
    }
   ],
   "source": [
    "# описание Типы событий, регистрируемых по типу объекта-многоквартирный дом\n",
    "df_tables[15]"
   ]
  },
  {
   "cell_type": "code",
   "execution_count": 36,
   "metadata": {},
   "outputs": [
    {
     "data": {
      "text/plain": [
       "id        0\n",
       "name      1\n",
       "system    0\n",
       "dtype: int64"
      ]
     },
     "execution_count": 36,
     "metadata": {},
     "output_type": "execute_result"
    }
   ],
   "source": [
    "# проверка на наличие пропусков\n",
    "df_systems.isna().sum()"
   ]
  },
  {
   "cell_type": "code",
   "execution_count": 37,
   "metadata": {},
   "outputs": [],
   "source": [
    "# удаление пропусков\n",
    "df_systems = df_systems.dropna()"
   ]
  },
  {
   "cell_type": "code",
   "execution_count": 38,
   "metadata": {},
   "outputs": [
    {
     "data": {
      "text/plain": [
       "id        949\n",
       "name      791\n",
       "system     10\n",
       "dtype: int64"
      ]
     },
     "execution_count": 38,
     "metadata": {},
     "output_type": "execute_result"
    }
   ],
   "source": [
    "# количество уникальных значений\n",
    "df_systems.nunique()"
   ]
  },
  {
   "attachments": {},
   "cell_type": "markdown",
   "metadata": {},
   "source": [
    "В данных присутствуют **дубликаты** \\\n",
    "В том числе присутствуют **дубликаты** наименования типа события по разным информационным системам. \\\n",
    "Удалять пока **не** будем "
   ]
  },
  {
   "cell_type": "code",
   "execution_count": 39,
   "metadata": {},
   "outputs": [],
   "source": [
    "# удаление парных дубликатов\n",
    "df_systems = df_systems.drop_duplicates(subset=[\"name\", \"system\"])"
   ]
  },
  {
   "cell_type": "code",
   "execution_count": 40,
   "metadata": {},
   "outputs": [
    {
     "data": {
      "text/plain": [
       "system\n",
       "MOS_GAS    555\n",
       "MVK        116\n",
       "NG          55\n",
       "EDC         54\n",
       "ASUPR       42\n",
       "EVAGD       38\n",
       "MGI         34\n",
       "KGH          3\n",
       "GORMOST      3\n",
       "CAFAP        3\n",
       "Name: count, dtype: int64"
      ]
     },
     "execution_count": 40,
     "metadata": {},
     "output_type": "execute_result"
    }
   ],
   "source": [
    "# количество наименований типа событий по информационным системам\n",
    "df_systems[\"system\"].value_counts()"
   ]
  },
  {
   "cell_type": "code",
   "execution_count": 41,
   "metadata": {},
   "outputs": [
    {
     "name": "stdout",
     "output_type": "stream",
     "text": [
      "id|system_name\n",
      "--+-----------\n"
     ]
    }
   ],
   "source": [
    "# вывод таблицы 'systems'\n",
    "db.System.select().show()"
   ]
  },
  {
   "cell_type": "code",
   "execution_count": 42,
   "metadata": {},
   "outputs": [],
   "source": [
    "@db_session\n",
    "def add_system(system_name):\n",
    "\n",
    "    \"\"\" функуия записи наименования информационной системы \n",
    "    - источник события в таблицу 'systems' \"\"\"\n",
    "    \n",
    "    db.System(system_name=system_name)\n",
    "    # commit() will be done automatically\n",
    "    # database session cache will be cleared automatically\n",
    "    # database connection will be returned to the pool"
   ]
  },
  {
   "cell_type": "code",
   "execution_count": 43,
   "metadata": {},
   "outputs": [
    {
     "data": {
      "text/plain": [
       "['MOS_GAS', 'MVK']"
      ]
     },
     "execution_count": 43,
     "metadata": {},
     "output_type": "execute_result"
    }
   ],
   "source": [
    "# данные для записи в таблицу\n",
    "system_names = list(df_systems[\"system\"].unique())\n",
    "system_names[:2]"
   ]
  },
  {
   "cell_type": "code",
   "execution_count": 44,
   "metadata": {},
   "outputs": [
    {
     "ename": "CacheIndexError",
     "evalue": "Cannot create System: value 'MOS_GAS' for key system_name already exists",
     "output_type": "error",
     "traceback": [
      "\u001b[1;31m---------------------------------------------------------------------------\u001b[0m",
      "\u001b[1;31mCacheIndexError\u001b[0m                           Traceback (most recent call last)",
      "Cell \u001b[1;32mIn[44], line 3\u001b[0m\n\u001b[0;32m      1\u001b[0m \u001b[39m# запись данных в базу данных\u001b[39;00m\n\u001b[0;32m      2\u001b[0m \u001b[39mfor\u001b[39;00m system_name \u001b[39min\u001b[39;00m system_names:\n\u001b[1;32m----> 3\u001b[0m     add_system(system_name)\n",
      "File \u001b[1;32m<string>:2\u001b[0m, in \u001b[0;36madd_system\u001b[1;34m(system_name)\u001b[0m\n",
      "File \u001b[1;32mc:\\Users\\rus_k\\incident\\venv\\Lib\\site-packages\\pony\\orm\\core.py:519\u001b[0m, in \u001b[0;36mDBSessionContextManager._wrap_function.<locals>.new_func\u001b[1;34m(func, *args, **kwargs)\u001b[0m\n\u001b[0;32m    517\u001b[0m exc_type \u001b[39m=\u001b[39m exc \u001b[39m=\u001b[39m tb \u001b[39m=\u001b[39m \u001b[39mNone\u001b[39;00m\n\u001b[0;32m    518\u001b[0m \u001b[39mtry\u001b[39;00m:\n\u001b[1;32m--> 519\u001b[0m     result \u001b[39m=\u001b[39m func(\u001b[39m*\u001b[39;49margs, \u001b[39m*\u001b[39;49m\u001b[39m*\u001b[39;49mkwargs)\n\u001b[0;32m    520\u001b[0m     commit()\n\u001b[0;32m    521\u001b[0m     \u001b[39mreturn\u001b[39;00m result\n",
      "Cell \u001b[1;32mIn[42], line 7\u001b[0m, in \u001b[0;36madd_system\u001b[1;34m(system_name)\u001b[0m\n\u001b[0;32m      1\u001b[0m \u001b[39m@db_session\u001b[39m\n\u001b[0;32m      2\u001b[0m \u001b[39mdef\u001b[39;00m \u001b[39madd_system\u001b[39m(system_name):\n\u001b[0;32m      4\u001b[0m \u001b[39m    \u001b[39m\u001b[39m\"\"\" функуия записи наименования информационной системы \u001b[39;00m\n\u001b[0;32m      5\u001b[0m \u001b[39m    - источник события в таблицу 'systems' \"\"\"\u001b[39;00m\n\u001b[1;32m----> 7\u001b[0m     db\u001b[39m.\u001b[39;49mSystem(system_name\u001b[39m=\u001b[39;49msystem_name)\n",
      "File \u001b[1;32m<string>:2\u001b[0m, in \u001b[0;36m__init__\u001b[1;34m(obj, *args, **kwargs)\u001b[0m\n",
      "File \u001b[1;32mc:\\Users\\rus_k\\incident\\venv\\Lib\\site-packages\\pony\\utils\\utils.py:75\u001b[0m, in \u001b[0;36mcut_traceback\u001b[1;34m(func, *args, **kwargs)\u001b[0m\n\u001b[0;32m     73\u001b[0m     module_name \u001b[39m=\u001b[39m tb\u001b[39m.\u001b[39mtb_frame\u001b[39m.\u001b[39mf_globals\u001b[39m.\u001b[39mget(\u001b[39m'\u001b[39m\u001b[39m__name__\u001b[39m\u001b[39m'\u001b[39m) \u001b[39mor\u001b[39;00m \u001b[39m'\u001b[39m\u001b[39m'\u001b[39m\n\u001b[0;32m     74\u001b[0m     \u001b[39mif\u001b[39;00m module_name\u001b[39m.\u001b[39mstartswith(\u001b[39m'\u001b[39m\u001b[39mpony.utils\u001b[39m\u001b[39m'\u001b[39m) \u001b[39mand\u001b[39;00m tb\u001b[39m.\u001b[39mtb_frame\u001b[39m.\u001b[39mf_code\u001b[39m.\u001b[39mco_name \u001b[39m==\u001b[39m \u001b[39m'\u001b[39m\u001b[39mthrow\u001b[39m\u001b[39m'\u001b[39m:\n\u001b[1;32m---> 75\u001b[0m         reraise(exc_type, exc, last_pony_tb)\n\u001b[0;32m     76\u001b[0m     reraise(exc_type, exc, full_tb)\n\u001b[0;32m     77\u001b[0m \u001b[39mfinally\u001b[39;00m:\n",
      "File \u001b[1;32mc:\\Users\\rus_k\\incident\\venv\\Lib\\site-packages\\pony\\utils\\utils.py:88\u001b[0m, in \u001b[0;36mreraise\u001b[1;34m(***failed resolving arguments***)\u001b[0m\n\u001b[0;32m     87\u001b[0m \u001b[39mdef\u001b[39;00m \u001b[39mreraise\u001b[39m(exc_type, exc, tb):\n\u001b[1;32m---> 88\u001b[0m     \u001b[39mtry\u001b[39;00m: \u001b[39mraise\u001b[39;00m exc\u001b[39m.\u001b[39mwith_traceback(tb)\n\u001b[0;32m     89\u001b[0m     \u001b[39mfinally\u001b[39;00m: \u001b[39mdel\u001b[39;00m exc, tb\n",
      "File \u001b[1;32mc:\\Users\\rus_k\\incident\\venv\\Lib\\site-packages\\pony\\orm\\core.py:4720\u001b[0m, in \u001b[0;36mEntity.__init__\u001b[1;34m(obj, *args, **kwargs)\u001b[0m\n\u001b[0;32m   4718\u001b[0m     val \u001b[39m=\u001b[39m avdict[attr]\n\u001b[0;32m   4719\u001b[0m     \u001b[39mif\u001b[39;00m val \u001b[39mis\u001b[39;00m \u001b[39mNone\u001b[39;00m: \u001b[39mcontinue\u001b[39;00m\n\u001b[1;32m-> 4720\u001b[0m     \u001b[39mif\u001b[39;00m val \u001b[39min\u001b[39;00m cache_indexes[attr]: throw(CacheIndexError,\n\u001b[0;32m   4721\u001b[0m         \u001b[39m'\u001b[39;49m\u001b[39mCannot create \u001b[39;49m\u001b[39m%s\u001b[39;49;00m\u001b[39m: value \u001b[39;49m\u001b[39m%r\u001b[39;49;00m\u001b[39m for key \u001b[39;49m\u001b[39m%s\u001b[39;49;00m\u001b[39m already exists\u001b[39;49m\u001b[39m'\u001b[39;49m \u001b[39m%\u001b[39;49m (entity\u001b[39m.\u001b[39;49m\u001b[39m__name__\u001b[39;49m, val, attr\u001b[39m.\u001b[39;49mname))\n\u001b[0;32m   4722\u001b[0m     indexes_update[attr] \u001b[39m=\u001b[39m val\n\u001b[0;32m   4723\u001b[0m \u001b[39mfor\u001b[39;00m attrs \u001b[39min\u001b[39;00m entity\u001b[39m.\u001b[39m_composite_keys_:\n",
      "File \u001b[1;32mc:\\Users\\rus_k\\incident\\venv\\Lib\\site-packages\\pony\\utils\\utils.py:101\u001b[0m, in \u001b[0;36mthrow\u001b[1;34m(exc_type, *args, **kwargs)\u001b[0m\n\u001b[0;32m     99\u001b[0m         \u001b[39mraise\u001b[39;00m exc\n\u001b[0;32m    100\u001b[0m     \u001b[39melse\u001b[39;00m:\n\u001b[1;32m--> 101\u001b[0m         \u001b[39mraise\u001b[39;00m exc  \u001b[39m# Set \"pony.options.CUT_TRACEBACK = False\" to see full traceback\u001b[39;00m\n\u001b[0;32m    102\u001b[0m \u001b[39mfinally\u001b[39;00m: \u001b[39mdel\u001b[39;00m exc\n",
      "\u001b[1;31mCacheIndexError\u001b[0m: Cannot create System: value 'MOS_GAS' for key system_name already exists"
     ]
    }
   ],
   "source": [
    "# запись данных в базу данных\n",
    "for system_name in system_names:\n",
    "    add_system(system_name)"
   ]
  },
  {
   "cell_type": "code",
   "execution_count": null,
   "metadata": {},
   "outputs": [
    {
     "name": "stdout",
     "output_type": "stream",
     "text": [
      "id|system_name\n",
      "--+-----------\n",
      "1 |MOS_GAS    \n",
      "2 |MVK        \n",
      "3 |EDC        \n",
      "4 |ASUPR      \n",
      "5 |MGI        \n",
      "6 |NG         \n",
      "7 |EVAGD      \n",
      "8 |KGH        \n",
      "9 |GORMOST    \n",
      "10|CAFAP      \n"
     ]
    }
   ],
   "source": [
    "# проверка записи данных\n",
    "db.System.select()[:10].show()"
   ]
  },
  {
   "cell_type": "code",
   "execution_count": null,
   "metadata": {},
   "outputs": [
    {
     "data": {
      "text/plain": [
       "(10, 10)"
      ]
     },
     "execution_count": 23,
     "metadata": {},
     "output_type": "execute_result"
    }
   ],
   "source": [
    "# проверка записи данных\n",
    "db.select(\"select count(*) from systems\")[0], len(system_names)"
   ]
  },
  {
   "attachments": {},
   "cell_type": "markdown",
   "metadata": {},
   "source": [
    "Данные записаны **успешно**"
   ]
  }
 ],
 "metadata": {
  "kernelspec": {
   "display_name": "venv",
   "language": "python",
   "name": "python3"
  },
  "language_info": {
   "codemirror_mode": {
    "name": "ipython",
    "version": 3
   },
   "file_extension": ".py",
   "mimetype": "text/x-python",
   "name": "python",
   "nbconvert_exporter": "python",
   "pygments_lexer": "ipython3",
   "version": "3.11.3"
  },
  "orig_nbformat": 4
 },
 "nbformat": 4,
 "nbformat_minor": 2
}
