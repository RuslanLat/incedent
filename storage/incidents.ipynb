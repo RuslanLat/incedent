{
 "cells": [
  {
   "cell_type": "code",
   "execution_count": 1,
   "metadata": {},
   "outputs": [],
   "source": [
    "# импорт необходимых библиотек\n",
    "import pandas as pd\n",
    "import os\n",
    "from docx import Document"
   ]
  },
  {
   "cell_type": "code",
   "execution_count": 2,
   "metadata": {},
   "outputs": [],
   "source": [
    "# путь к файлам\n",
    "PACH_DATA = \"../raw_data/\""
   ]
  },
  {
   "cell_type": "code",
   "execution_count": 3,
   "metadata": {},
   "outputs": [
    {
     "data": {
      "text/plain": [
       "['1_Многоквартирные дома с технико-экономическими характеристиками.xlsx',\n",
       " '2_Инциденты,_зарегистрированные_на_объектах_городского_хозяйства (2).xlsx',\n",
       " '2_Инциденты,_зарегистрированные_на_объектах_городского_хозяйства.xlsx',\n",
       " '3_Работы по капитальному ремонту, проведенные в многоквартирных домах.xlsx',\n",
       " '4_Виды работ по капитальному ремонту многоквартирных домов.xlsx',\n",
       " '4_Виды работ по содержанию и ремонту общего имущества многоквартирных домов.xlsx',\n",
       " '4_Виды_работ_по_капитальному_ремонту_многоквартирных_домов_с_фактом (3).xlsx',\n",
       " '5_Типы событий, регистрируемых по типу объекта многоквартирный дом.xlsx',\n",
       " 'Объекты_модели_Группы_видов_работ_по_содержанию_и_ремонту_общего.xlsx',\n",
       " 'Описание примеров данных.docx']"
      ]
     },
     "execution_count": 3,
     "metadata": {},
     "output_type": "execute_result"
    }
   ],
   "source": [
    "# вывод файлов директории \"data\"\n",
    "data_list = os.listdir(PACH_DATA)\n",
    "data_list"
   ]
  },
  {
   "attachments": {},
   "cell_type": "markdown",
   "metadata": {},
   "source": [
    "### Описание примеров данных"
   ]
  },
  {
   "cell_type": "code",
   "execution_count": 4,
   "metadata": {},
   "outputs": [],
   "source": [
    "# загрузка данных файла 'Описание примеров данных.docx'\n",
    "document = Document(PACH_DATA + data_list[-1])"
   ]
  },
  {
   "cell_type": "code",
   "execution_count": 5,
   "metadata": {},
   "outputs": [],
   "source": [
    "# парсинг таблиц данных файла 'Описание примеров данных.docx'\n",
    "df_tables = []\n",
    "for table in document.tables:\n",
    "    df = [['' for i in range(len(table.columns))] for j in range(len(table.rows))]\n",
    "    for i, row in enumerate(table.rows):\n",
    "        for j, cell in enumerate(row.cells):\n",
    "            if cell.text:\n",
    "                df[i][j] = cell.text\n",
    "    df_tables.append(pd.DataFrame(df[1:], columns=df[0]))"
   ]
  },
  {
   "cell_type": "code",
   "execution_count": 6,
   "metadata": {},
   "outputs": [
    {
     "data": {
      "text/plain": [
       "16"
      ]
     },
     "execution_count": 6,
     "metadata": {},
     "output_type": "execute_result"
    }
   ],
   "source": [
    "# количество обнаруженных таблиц\n",
    "len(df_tables)"
   ]
  },
  {
   "cell_type": "code",
   "execution_count": 7,
   "metadata": {},
   "outputs": [
    {
     "data": {
      "text/html": [
       "<div>\n",
       "<style scoped>\n",
       "    .dataframe tbody tr th:only-of-type {\n",
       "        vertical-align: middle;\n",
       "    }\n",
       "\n",
       "    .dataframe tbody tr th {\n",
       "        vertical-align: top;\n",
       "    }\n",
       "\n",
       "    .dataframe thead th {\n",
       "        text-align: right;\n",
       "    }\n",
       "</style>\n",
       "<table border=\"1\" class=\"dataframe\">\n",
       "  <thead>\n",
       "    <tr style=\"text-align: right;\">\n",
       "      <th></th>\n",
       "      <th>Имя колонки</th>\n",
       "      <th>Тип данных</th>\n",
       "      <th>Комментарий</th>\n",
       "    </tr>\n",
       "  </thead>\n",
       "  <tbody>\n",
       "    <tr>\n",
       "      <th>0</th>\n",
       "      <td>A</td>\n",
       "      <td>NUMBER</td>\n",
       "      <td>Наименование</td>\n",
       "    </tr>\n",
       "    <tr>\n",
       "      <th>1</th>\n",
       "      <td>B</td>\n",
       "      <td>VARCHAR2</td>\n",
       "      <td>Источник</td>\n",
       "    </tr>\n",
       "    <tr>\n",
       "      <th>2</th>\n",
       "      <td>C</td>\n",
       "      <td>DATE</td>\n",
       "      <td>Дата создания во внешней системе</td>\n",
       "    </tr>\n",
       "    <tr>\n",
       "      <th>3</th>\n",
       "      <td>D</td>\n",
       "      <td>NUMBER</td>\n",
       "      <td>Дата закрытия</td>\n",
       "    </tr>\n",
       "    <tr>\n",
       "      <th>4</th>\n",
       "      <td>E</td>\n",
       "      <td>NUMBER</td>\n",
       "      <td>Округ</td>\n",
       "    </tr>\n",
       "    <tr>\n",
       "      <th>5</th>\n",
       "      <td>F</td>\n",
       "      <td>NUMBER</td>\n",
       "      <td>Адрес</td>\n",
       "    </tr>\n",
       "    <tr>\n",
       "      <th>6</th>\n",
       "      <td>G</td>\n",
       "      <td>NUMBER</td>\n",
       "      <td>Дата и время завершения события во</td>\n",
       "    </tr>\n",
       "  </tbody>\n",
       "</table>\n",
       "</div>"
      ],
      "text/plain": [
       "  Имя колонки Тип данных                         Комментарий\n",
       "0           A     NUMBER                        Наименование\n",
       "1           B   VARCHAR2                            Источник\n",
       "2           C       DATE    Дата создания во внешней системе\n",
       "3           D     NUMBER                       Дата закрытия\n",
       "4           E     NUMBER                               Округ\n",
       "5           F     NUMBER                               Адрес\n",
       "6           G     NUMBER  Дата и время завершения события во"
      ]
     },
     "execution_count": 7,
     "metadata": {},
     "output_type": "execute_result"
    }
   ],
   "source": [
    "# описание данных\n",
    "df_tables[11]"
   ]
  },
  {
   "attachments": {},
   "cell_type": "markdown",
   "metadata": {},
   "source": [
    "### Инциденты, зарегистрированные на объектах городского хозяйства"
   ]
  },
  {
   "cell_type": "code",
   "execution_count": 29,
   "metadata": {},
   "outputs": [
    {
     "data": {
      "text/plain": [
       "'2_Инциденты,_зарегистрированные_на_объектах_городского_хозяйства (2).xlsx'"
      ]
     },
     "execution_count": 29,
     "metadata": {},
     "output_type": "execute_result"
    }
   ],
   "source": [
    "# путь к данным\n",
    "data_list[1]"
   ]
  },
  {
   "cell_type": "code",
   "execution_count": 30,
   "metadata": {},
   "outputs": [
    {
     "name": "stdout",
     "output_type": "stream",
     "text": [
      "['Result 1', 'Result 2', 'Query']\n"
     ]
    }
   ],
   "source": [
    "# вывод наименование листов в файле \"2_Инциденты,_зарегистрированные_на_объектах_городского_хозяйства (2).xlsx\"\n",
    "xlsx_file = pd.ExcelFile(PACH_DATA + data_list[1])\n",
    "sheet_names = xlsx_file.sheet_names\n",
    "print(sheet_names)"
   ]
  },
  {
   "cell_type": "code",
   "execution_count": 8,
   "metadata": {},
   "outputs": [
    {
     "data": {
      "text/html": [
       "<div>\n",
       "<style scoped>\n",
       "    .dataframe tbody tr th:only-of-type {\n",
       "        vertical-align: middle;\n",
       "    }\n",
       "\n",
       "    .dataframe tbody tr th {\n",
       "        vertical-align: top;\n",
       "    }\n",
       "\n",
       "    .dataframe thead th {\n",
       "        text-align: right;\n",
       "    }\n",
       "</style>\n",
       "<table border=\"1\" class=\"dataframe\">\n",
       "  <thead>\n",
       "    <tr style=\"text-align: right;\">\n",
       "      <th></th>\n",
       "      <th>Наименование</th>\n",
       "      <th>Источник</th>\n",
       "      <th>Дата создания во внешней системе</th>\n",
       "      <th>Дата закрытия</th>\n",
       "      <th>Округ</th>\n",
       "      <th>Адрес</th>\n",
       "      <th>unom</th>\n",
       "      <th>Дата и время завершения события во</th>\n",
       "    </tr>\n",
       "  </thead>\n",
       "  <tbody>\n",
       "    <tr>\n",
       "      <th>0</th>\n",
       "      <td>Открыт колодец</td>\n",
       "      <td>MVK</td>\n",
       "      <td>2022-08-30 14:41:53.000000</td>\n",
       "      <td>2022-08-30 15:40:26.565000</td>\n",
       "      <td>ВАО</td>\n",
       "      <td>внутригородская территория муниципальный округ...</td>\n",
       "      <td>2115191</td>\n",
       "      <td>NaN</td>\n",
       "    </tr>\n",
       "    <tr>\n",
       "      <th>1</th>\n",
       "      <td>Отклонение ГВС ниже нормы ночью (мониторинг)</td>\n",
       "      <td>ASUPR</td>\n",
       "      <td>2022-02-20 06:24:07.000000</td>\n",
       "      <td>2022-04-04 02:43:22.101000</td>\n",
       "      <td>ВАО</td>\n",
       "      <td>внутригородская территория муниципальный округ...</td>\n",
       "      <td>2404461</td>\n",
       "      <td>NaN</td>\n",
       "    </tr>\n",
       "    <tr>\n",
       "      <th>2</th>\n",
       "      <td>Отклонение ГВС ниже нормы днем (мониторинг)</td>\n",
       "      <td>ASUPR</td>\n",
       "      <td>2022-03-07 21:04:01.000000</td>\n",
       "      <td>2022-03-09 09:33:24.894000</td>\n",
       "      <td>ВАО</td>\n",
       "      <td>внутригородская территория муниципальный округ...</td>\n",
       "      <td>2404461</td>\n",
       "      <td>NaN</td>\n",
       "    </tr>\n",
       "    <tr>\n",
       "      <th>3</th>\n",
       "      <td>Температура ГВС ниже нормы</td>\n",
       "      <td>ASUPR</td>\n",
       "      <td>2022-03-05 22:13:33.000000</td>\n",
       "      <td>2022-03-05 19:14:00.190000</td>\n",
       "      <td>ВАО</td>\n",
       "      <td>внутригородская территория муниципальный округ...</td>\n",
       "      <td>2404461</td>\n",
       "      <td>NaN</td>\n",
       "    </tr>\n",
       "    <tr>\n",
       "      <th>4</th>\n",
       "      <td>Температура ГВС ниже нормы</td>\n",
       "      <td>ASUPR</td>\n",
       "      <td>2022-02-18 21:43:54.000000</td>\n",
       "      <td>2022-02-18 18:44:14.682000</td>\n",
       "      <td>ВАО</td>\n",
       "      <td>внутригородская территория муниципальный округ...</td>\n",
       "      <td>2404461</td>\n",
       "      <td>NaN</td>\n",
       "    </tr>\n",
       "  </tbody>\n",
       "</table>\n",
       "</div>"
      ],
      "text/plain": [
       "                                   Наименование Источник   \n",
       "0                                Открыт колодец      MVK  \\\n",
       "1  Отклонение ГВС ниже нормы ночью (мониторинг)    ASUPR   \n",
       "2   Отклонение ГВС ниже нормы днем (мониторинг)    ASUPR   \n",
       "3                    Температура ГВС ниже нормы    ASUPR   \n",
       "4                    Температура ГВС ниже нормы    ASUPR   \n",
       "\n",
       "  Дата создания во внешней системе               Дата закрытия Округ   \n",
       "0       2022-08-30 14:41:53.000000  2022-08-30 15:40:26.565000   ВАО  \\\n",
       "1       2022-02-20 06:24:07.000000  2022-04-04 02:43:22.101000   ВАО   \n",
       "2       2022-03-07 21:04:01.000000  2022-03-09 09:33:24.894000   ВАО   \n",
       "3       2022-03-05 22:13:33.000000  2022-03-05 19:14:00.190000   ВАО   \n",
       "4       2022-02-18 21:43:54.000000  2022-02-18 18:44:14.682000   ВАО   \n",
       "\n",
       "                                               Адрес     unom   \n",
       "0  внутригородская территория муниципальный округ...  2115191  \\\n",
       "1  внутригородская территория муниципальный округ...  2404461   \n",
       "2  внутригородская территория муниципальный округ...  2404461   \n",
       "3  внутригородская территория муниципальный округ...  2404461   \n",
       "4  внутригородская территория муниципальный округ...  2404461   \n",
       "\n",
       "  Дата и время завершения события во  \n",
       "0                                NaN  \n",
       "1                                NaN  \n",
       "2                                NaN  \n",
       "3                                NaN  \n",
       "4                                NaN  "
      ]
     },
     "execution_count": 8,
     "metadata": {},
     "output_type": "execute_result"
    }
   ],
   "source": [
    "# загрузка данных\n",
    "incidents_res_1_df = pd.read_excel(PACH_DATA + data_list[1], sheet_name=\"Result 1\")\n",
    "incidents_res_1_df.head()"
   ]
  },
  {
   "cell_type": "code",
   "execution_count": 9,
   "metadata": {},
   "outputs": [
    {
     "data": {
      "text/html": [
       "<div>\n",
       "<style scoped>\n",
       "    .dataframe tbody tr th:only-of-type {\n",
       "        vertical-align: middle;\n",
       "    }\n",
       "\n",
       "    .dataframe tbody tr th {\n",
       "        vertical-align: top;\n",
       "    }\n",
       "\n",
       "    .dataframe thead th {\n",
       "        text-align: right;\n",
       "    }\n",
       "</style>\n",
       "<table border=\"1\" class=\"dataframe\">\n",
       "  <thead>\n",
       "    <tr style=\"text-align: right;\">\n",
       "      <th></th>\n",
       "      <th>Наименование</th>\n",
       "      <th>Источник</th>\n",
       "      <th>Дата создания во внешней системе</th>\n",
       "      <th>Дата закрытия</th>\n",
       "      <th>Округ</th>\n",
       "      <th>Адрес</th>\n",
       "      <th>unom</th>\n",
       "      <th>Дата и время завершения события во</th>\n",
       "    </tr>\n",
       "  </thead>\n",
       "  <tbody>\n",
       "    <tr>\n",
       "      <th>0</th>\n",
       "      <td>Отсутствие освещения в местах общего пользования</td>\n",
       "      <td>EDC</td>\n",
       "      <td>2022-11-24 13:37:48.000000</td>\n",
       "      <td>2022-11-24 16:34:46.849000</td>\n",
       "      <td>ВАО</td>\n",
       "      <td>внутригородская территория муниципальный округ...</td>\n",
       "      <td>4086</td>\n",
       "      <td>2022-11-24 16:34:46.849000</td>\n",
       "    </tr>\n",
       "    <tr>\n",
       "      <th>1</th>\n",
       "      <td>Отсутствие освещения в местах общего пользования</td>\n",
       "      <td>EDC</td>\n",
       "      <td>2022-11-24 16:12:45.000000</td>\n",
       "      <td>2022-11-24 16:34:10.370000</td>\n",
       "      <td>ВАО</td>\n",
       "      <td>внутригородская территория муниципальный округ...</td>\n",
       "      <td>4086</td>\n",
       "      <td>2022-11-24 16:34:09.752000</td>\n",
       "    </tr>\n",
       "    <tr>\n",
       "      <th>2</th>\n",
       "      <td>Отсутствие освещения в местах общего пользования</td>\n",
       "      <td>EDC</td>\n",
       "      <td>2022-11-24 16:26:15.000000</td>\n",
       "      <td>2022-11-24 17:08:52.549000</td>\n",
       "      <td>ВАО</td>\n",
       "      <td>внутригородская территория муниципальный округ...</td>\n",
       "      <td>4086</td>\n",
       "      <td>2022-11-24 17:08:52.548000</td>\n",
       "    </tr>\n",
       "    <tr>\n",
       "      <th>3</th>\n",
       "      <td>Отсутствие освещения в местах общего пользования</td>\n",
       "      <td>EDC</td>\n",
       "      <td>2022-11-24 16:39:24.000000</td>\n",
       "      <td>2022-11-24 17:09:27.741000</td>\n",
       "      <td>ВАО</td>\n",
       "      <td>внутригородская территория муниципальный округ...</td>\n",
       "      <td>4086</td>\n",
       "      <td>2022-11-24 17:09:27.491000</td>\n",
       "    </tr>\n",
       "    <tr>\n",
       "      <th>4</th>\n",
       "      <td>Температура в квартире ниже нормативной</td>\n",
       "      <td>EDC</td>\n",
       "      <td>2022-11-24 16:42:50.000000</td>\n",
       "      <td>2022-11-24 17:09:45.926000</td>\n",
       "      <td>ВАО</td>\n",
       "      <td>внутригородская территория муниципальный округ...</td>\n",
       "      <td>4086</td>\n",
       "      <td>2022-11-24 17:09:43.627000</td>\n",
       "    </tr>\n",
       "  </tbody>\n",
       "</table>\n",
       "</div>"
      ],
      "text/plain": [
       "                                       Наименование Источник   \n",
       "0  Отсутствие освещения в местах общего пользования      EDC  \\\n",
       "1  Отсутствие освещения в местах общего пользования      EDC   \n",
       "2  Отсутствие освещения в местах общего пользования      EDC   \n",
       "3  Отсутствие освещения в местах общего пользования      EDC   \n",
       "4           Температура в квартире ниже нормативной      EDC   \n",
       "\n",
       "  Дата создания во внешней системе               Дата закрытия Округ   \n",
       "0       2022-11-24 13:37:48.000000  2022-11-24 16:34:46.849000   ВАО  \\\n",
       "1       2022-11-24 16:12:45.000000  2022-11-24 16:34:10.370000   ВАО   \n",
       "2       2022-11-24 16:26:15.000000  2022-11-24 17:08:52.549000   ВАО   \n",
       "3       2022-11-24 16:39:24.000000  2022-11-24 17:09:27.741000   ВАО   \n",
       "4       2022-11-24 16:42:50.000000  2022-11-24 17:09:45.926000   ВАО   \n",
       "\n",
       "                                               Адрес  unom   \n",
       "0  внутригородская территория муниципальный округ...  4086  \\\n",
       "1  внутригородская территория муниципальный округ...  4086   \n",
       "2  внутригородская территория муниципальный округ...  4086   \n",
       "3  внутригородская территория муниципальный округ...  4086   \n",
       "4  внутригородская территория муниципальный округ...  4086   \n",
       "\n",
       "  Дата и время завершения события во  \n",
       "0         2022-11-24 16:34:46.849000  \n",
       "1         2022-11-24 16:34:09.752000  \n",
       "2         2022-11-24 17:08:52.548000  \n",
       "3         2022-11-24 17:09:27.491000  \n",
       "4         2022-11-24 17:09:43.627000  "
      ]
     },
     "execution_count": 9,
     "metadata": {},
     "output_type": "execute_result"
    }
   ],
   "source": [
    "# загрузка данных\n",
    "incidents_res_2_df = pd.read_excel(PACH_DATA + data_list[1], sheet_name=\"Result 2\")\n",
    "incidents_res_2_df.head()"
   ]
  },
  {
   "cell_type": "code",
   "execution_count": 10,
   "metadata": {},
   "outputs": [],
   "source": [
    "# объединение данных\n",
    "incidents_df = pd.concat([incidents_res_1_df, incidents_res_2_df])"
   ]
  },
  {
   "cell_type": "code",
   "execution_count": 11,
   "metadata": {},
   "outputs": [
    {
     "data": {
      "text/plain": [
       "True"
      ]
     },
     "execution_count": 11,
     "metadata": {},
     "output_type": "execute_result"
    }
   ],
   "source": [
    "# проверка объединения\n",
    "len(incidents_res_1_df) + len(incidents_res_2_df) == len(incidents_df)\n"
   ]
  },
  {
   "cell_type": "code",
   "execution_count": 12,
   "metadata": {},
   "outputs": [],
   "source": [
    "# очистка оперативной памяти\n",
    "del incidents_res_1_df\n",
    "del incidents_res_2_df"
   ]
  },
  {
   "cell_type": "code",
   "execution_count": 13,
   "metadata": {},
   "outputs": [
    {
     "data": {
      "text/plain": [
       "Наименование                          object\n",
       "Источник                              object\n",
       "Дата создания во внешней системе      object\n",
       "Дата закрытия                         object\n",
       "Округ                                 object\n",
       "Адрес                                 object\n",
       "unom                                   int64\n",
       "Дата и время завершения события во    object\n",
       "dtype: object"
      ]
     },
     "execution_count": 13,
     "metadata": {},
     "output_type": "execute_result"
    }
   ],
   "source": [
    "# тип данных\n",
    "incidents_df.dtypes"
   ]
  },
  {
   "cell_type": "code",
   "execution_count": 14,
   "metadata": {},
   "outputs": [
    {
     "data": {
      "text/plain": [
       "20"
      ]
     },
     "execution_count": 14,
     "metadata": {},
     "output_type": "execute_result"
    }
   ],
   "source": [
    "# проверка на наличие дубликатов\n",
    "incidents_df.duplicated().sum()"
   ]
  },
  {
   "cell_type": "code",
   "execution_count": 15,
   "metadata": {},
   "outputs": [],
   "source": [
    "# удаление дубликатов\n",
    "incidents_df = incidents_df.drop_duplicates()"
   ]
  },
  {
   "cell_type": "code",
   "execution_count": 16,
   "metadata": {},
   "outputs": [],
   "source": [
    "# привидение в соответствие типов данных\n",
    "incidents_df[\"Дата создания во внешней системе\"] = pd.to_datetime(incidents_df[\"Дата создания во внешней системе\"])\n",
    "incidents_df[\"Дата закрытия\"] = pd.to_datetime(incidents_df[\"Дата закрытия\"])"
   ]
  },
  {
   "cell_type": "code",
   "execution_count": 17,
   "metadata": {},
   "outputs": [],
   "source": [
    "# удаление дублирующего признака\n",
    "incidents_df = incidents_df.drop(columns=\"Дата и время завершения события во\")"
   ]
  },
  {
   "cell_type": "code",
   "execution_count": 18,
   "metadata": {},
   "outputs": [],
   "source": [
    "# сохранение данных в файл\n",
    "incidents_df.to_csv(\"../data/incidents_df.csv\", index=False)"
   ]
  },
  {
   "cell_type": "code",
   "execution_count": 2,
   "metadata": {},
   "outputs": [
    {
     "data": {
      "text/html": [
       "<div>\n",
       "<style scoped>\n",
       "    .dataframe tbody tr th:only-of-type {\n",
       "        vertical-align: middle;\n",
       "    }\n",
       "\n",
       "    .dataframe tbody tr th {\n",
       "        vertical-align: top;\n",
       "    }\n",
       "\n",
       "    .dataframe thead th {\n",
       "        text-align: right;\n",
       "    }\n",
       "</style>\n",
       "<table border=\"1\" class=\"dataframe\">\n",
       "  <thead>\n",
       "    <tr style=\"text-align: right;\">\n",
       "      <th></th>\n",
       "      <th>Наименование</th>\n",
       "      <th>Источник</th>\n",
       "      <th>Дата создания во внешней системе</th>\n",
       "      <th>Дата закрытия</th>\n",
       "      <th>Округ</th>\n",
       "      <th>Адрес</th>\n",
       "      <th>unom</th>\n",
       "    </tr>\n",
       "  </thead>\n",
       "  <tbody>\n",
       "    <tr>\n",
       "      <th>0</th>\n",
       "      <td>Открыт колодец</td>\n",
       "      <td>MVK</td>\n",
       "      <td>2022-08-30 14:41:53.000</td>\n",
       "      <td>2022-08-30 15:40:26.565</td>\n",
       "      <td>ВАО</td>\n",
       "      <td>внутригородская территория муниципальный округ...</td>\n",
       "      <td>2115191</td>\n",
       "    </tr>\n",
       "    <tr>\n",
       "      <th>1</th>\n",
       "      <td>Отклонение ГВС ниже нормы ночью (мониторинг)</td>\n",
       "      <td>ASUPR</td>\n",
       "      <td>2022-02-20 06:24:07.000</td>\n",
       "      <td>2022-04-04 02:43:22.101</td>\n",
       "      <td>ВАО</td>\n",
       "      <td>внутригородская территория муниципальный округ...</td>\n",
       "      <td>2404461</td>\n",
       "    </tr>\n",
       "    <tr>\n",
       "      <th>2</th>\n",
       "      <td>Отклонение ГВС ниже нормы днем (мониторинг)</td>\n",
       "      <td>ASUPR</td>\n",
       "      <td>2022-03-07 21:04:01.000</td>\n",
       "      <td>2022-03-09 09:33:24.894</td>\n",
       "      <td>ВАО</td>\n",
       "      <td>внутригородская территория муниципальный округ...</td>\n",
       "      <td>2404461</td>\n",
       "    </tr>\n",
       "    <tr>\n",
       "      <th>3</th>\n",
       "      <td>Температура ГВС ниже нормы</td>\n",
       "      <td>ASUPR</td>\n",
       "      <td>2022-03-05 22:13:33.000</td>\n",
       "      <td>2022-03-05 19:14:00.190</td>\n",
       "      <td>ВАО</td>\n",
       "      <td>внутригородская территория муниципальный округ...</td>\n",
       "      <td>2404461</td>\n",
       "    </tr>\n",
       "    <tr>\n",
       "      <th>4</th>\n",
       "      <td>Температура ГВС ниже нормы</td>\n",
       "      <td>ASUPR</td>\n",
       "      <td>2022-02-18 21:43:54.000</td>\n",
       "      <td>2022-02-18 18:44:14.682</td>\n",
       "      <td>ВАО</td>\n",
       "      <td>внутригородская территория муниципальный округ...</td>\n",
       "      <td>2404461</td>\n",
       "    </tr>\n",
       "  </tbody>\n",
       "</table>\n",
       "</div>"
      ],
      "text/plain": [
       "                                   Наименование Источник   \n",
       "0                                Открыт колодец      MVK  \\\n",
       "1  Отклонение ГВС ниже нормы ночью (мониторинг)    ASUPR   \n",
       "2   Отклонение ГВС ниже нормы днем (мониторинг)    ASUPR   \n",
       "3                    Температура ГВС ниже нормы    ASUPR   \n",
       "4                    Температура ГВС ниже нормы    ASUPR   \n",
       "\n",
       "  Дата создания во внешней системе            Дата закрытия Округ   \n",
       "0          2022-08-30 14:41:53.000  2022-08-30 15:40:26.565   ВАО  \\\n",
       "1          2022-02-20 06:24:07.000  2022-04-04 02:43:22.101   ВАО   \n",
       "2          2022-03-07 21:04:01.000  2022-03-09 09:33:24.894   ВАО   \n",
       "3          2022-03-05 22:13:33.000  2022-03-05 19:14:00.190   ВАО   \n",
       "4          2022-02-18 21:43:54.000  2022-02-18 18:44:14.682   ВАО   \n",
       "\n",
       "                                               Адрес     unom  \n",
       "0  внутригородская территория муниципальный округ...  2115191  \n",
       "1  внутригородская территория муниципальный округ...  2404461  \n",
       "2  внутригородская территория муниципальный округ...  2404461  \n",
       "3  внутригородская территория муниципальный округ...  2404461  \n",
       "4  внутригородская территория муниципальный округ...  2404461  "
      ]
     },
     "execution_count": 2,
     "metadata": {},
     "output_type": "execute_result"
    }
   ],
   "source": [
    "incidents_df = pd.read_csv(\"../data/incidents_df.csv\")\n",
    "incidents_df.head()"
   ]
  },
  {
   "cell_type": "code",
   "execution_count": 12,
   "metadata": {},
   "outputs": [
    {
     "data": {
      "text/html": [
       "<div>\n",
       "<style scoped>\n",
       "    .dataframe tbody tr th:only-of-type {\n",
       "        vertical-align: middle;\n",
       "    }\n",
       "\n",
       "    .dataframe tbody tr th {\n",
       "        vertical-align: top;\n",
       "    }\n",
       "\n",
       "    .dataframe thead th {\n",
       "        text-align: right;\n",
       "    }\n",
       "</style>\n",
       "<table border=\"1\" class=\"dataframe\">\n",
       "  <thead>\n",
       "    <tr style=\"text-align: right;\">\n",
       "      <th></th>\n",
       "      <th>unom</th>\n",
       "      <th>Наименование</th>\n",
       "      <th>Количество обращений</th>\n",
       "    </tr>\n",
       "  </thead>\n",
       "  <tbody>\n",
       "    <tr>\n",
       "      <th>6</th>\n",
       "      <td>308</td>\n",
       "      <td>Повреждение отделочных покрытий пола/стены/сту...</td>\n",
       "      <td>6</td>\n",
       "    </tr>\n",
       "    <tr>\n",
       "      <th>7</th>\n",
       "      <td>308</td>\n",
       "      <td>Повреждение системы электропроводки/щитового о...</td>\n",
       "      <td>5</td>\n",
       "    </tr>\n",
       "    <tr>\n",
       "      <th>8</th>\n",
       "      <td>308</td>\n",
       "      <td>Повреждение элементов входной двери</td>\n",
       "      <td>5</td>\n",
       "    </tr>\n",
       "    <tr>\n",
       "      <th>0</th>\n",
       "      <td>308</td>\n",
       "      <td>Загрязнение/замусоренность подъезда</td>\n",
       "      <td>3</td>\n",
       "    </tr>\n",
       "    <tr>\n",
       "      <th>9</th>\n",
       "      <td>308</td>\n",
       "      <td>Протечка с кровли</td>\n",
       "      <td>3</td>\n",
       "    </tr>\n",
       "  </tbody>\n",
       "</table>\n",
       "</div>"
      ],
      "text/plain": [
       "   unom                                       Наименование   \n",
       "6   308  Повреждение отделочных покрытий пола/стены/сту...  \\\n",
       "7   308  Повреждение системы электропроводки/щитового о...   \n",
       "8   308                Повреждение элементов входной двери   \n",
       "0   308                Загрязнение/замусоренность подъезда   \n",
       "9   308                                  Протечка с кровли   \n",
       "\n",
       "   Количество обращений  \n",
       "6                     6  \n",
       "7                     5  \n",
       "8                     5  \n",
       "0                     3  \n",
       "9                     3  "
      ]
     },
     "execution_count": 12,
     "metadata": {},
     "output_type": "execute_result"
    }
   ],
   "source": [
    "inc = incidents_df.groupby([\"unom\", \"Наименование\"],as_index=False)[\"Источник\"].count().rename(columns={\"Источник\" : \"Количество обращений\"}) \\\n",
    " .sort_values(by=[\"unom\", \"Количество обращений\"], ascending=[True, False])\n",
    "inc.head()"
   ]
  },
  {
   "cell_type": "code",
   "execution_count": 15,
   "metadata": {},
   "outputs": [],
   "source": [
    "unom = inc[\"unom\"].unique()"
   ]
  },
  {
   "cell_type": "code",
   "execution_count": 19,
   "metadata": {},
   "outputs": [
    {
     "data": {
      "text/plain": [
       "True"
      ]
     },
     "execution_count": 19,
     "metadata": {},
     "output_type": "execute_result"
    }
   ],
   "source": [
    "16566 in unom"
   ]
  },
  {
   "cell_type": "code",
   "execution_count": 16,
   "metadata": {},
   "outputs": [],
   "source": [
    "data = []\n",
    "for i in unom:\n",
    "    data.append(inc[inc[\"unom\"] == i].head(2))"
   ]
  },
  {
   "cell_type": "code",
   "execution_count": 18,
   "metadata": {},
   "outputs": [
    {
     "data": {
      "text/html": [
       "<div>\n",
       "<style scoped>\n",
       "    .dataframe tbody tr th:only-of-type {\n",
       "        vertical-align: middle;\n",
       "    }\n",
       "\n",
       "    .dataframe tbody tr th {\n",
       "        vertical-align: top;\n",
       "    }\n",
       "\n",
       "    .dataframe thead th {\n",
       "        text-align: right;\n",
       "    }\n",
       "</style>\n",
       "<table border=\"1\" class=\"dataframe\">\n",
       "  <thead>\n",
       "    <tr style=\"text-align: right;\">\n",
       "      <th></th>\n",
       "      <th>unom</th>\n",
       "      <th>Наименование</th>\n",
       "      <th>Количество обращений</th>\n",
       "    </tr>\n",
       "  </thead>\n",
       "  <tbody>\n",
       "    <tr>\n",
       "      <th>6</th>\n",
       "      <td>308</td>\n",
       "      <td>Повреждение отделочных покрытий пола/стены/сту...</td>\n",
       "      <td>6</td>\n",
       "    </tr>\n",
       "    <tr>\n",
       "      <th>7</th>\n",
       "      <td>308</td>\n",
       "      <td>Повреждение системы электропроводки/щитового о...</td>\n",
       "      <td>5</td>\n",
       "    </tr>\n",
       "    <tr>\n",
       "      <th>17</th>\n",
       "      <td>309</td>\n",
       "      <td>Нет связи с ПУ</td>\n",
       "      <td>479</td>\n",
       "    </tr>\n",
       "    <tr>\n",
       "      <th>27</th>\n",
       "      <td>309</td>\n",
       "      <td>Повреждение отделочных покрытий пола/стены/сту...</td>\n",
       "      <td>11</td>\n",
       "    </tr>\n",
       "    <tr>\n",
       "      <th>33</th>\n",
       "      <td>310</td>\n",
       "      <td>Загрязнение/замусоренность подъезда</td>\n",
       "      <td>5</td>\n",
       "    </tr>\n",
       "  </tbody>\n",
       "</table>\n",
       "</div>"
      ],
      "text/plain": [
       "    unom                                       Наименование   \n",
       "6    308  Повреждение отделочных покрытий пола/стены/сту...  \\\n",
       "7    308  Повреждение системы электропроводки/щитового о...   \n",
       "17   309                                     Нет связи с ПУ   \n",
       "27   309  Повреждение отделочных покрытий пола/стены/сту...   \n",
       "33   310                Загрязнение/замусоренность подъезда   \n",
       "\n",
       "    Количество обращений  \n",
       "6                      6  \n",
       "7                      5  \n",
       "17                   479  \n",
       "27                    11  \n",
       "33                     5  "
      ]
     },
     "execution_count": 18,
     "metadata": {},
     "output_type": "execute_result"
    }
   ],
   "source": [
    "inc = pd.concat(data)\n",
    "inc.head()"
   ]
  },
  {
   "cell_type": "code",
   "execution_count": null,
   "metadata": {},
   "outputs": [],
   "source": [
    "inc.to_csv(\"../data/incidents_count.csv\", index=False)"
   ]
  },
  {
   "cell_type": "code",
   "execution_count": 46,
   "metadata": {},
   "outputs": [],
   "source": [
    "# округлим временные метки до часа\n",
    "incidents_df[\"Дата создания во внешней системе\"] = incidents_df[\"Дата создания во внешней системе\"].apply(lambda x: x.round(freq='H'))\n",
    "incidents_df[\"Дата закрытия\"] = incidents_df[\"Дата закрытия\"].apply(lambda x: x.round(freq='H'))"
   ]
  },
  {
   "cell_type": "code",
   "execution_count": 48,
   "metadata": {},
   "outputs": [
    {
     "data": {
      "text/html": [
       "<div>\n",
       "<style scoped>\n",
       "    .dataframe tbody tr th:only-of-type {\n",
       "        vertical-align: middle;\n",
       "    }\n",
       "\n",
       "    .dataframe tbody tr th {\n",
       "        vertical-align: top;\n",
       "    }\n",
       "\n",
       "    .dataframe thead th {\n",
       "        text-align: right;\n",
       "    }\n",
       "</style>\n",
       "<table border=\"1\" class=\"dataframe\">\n",
       "  <thead>\n",
       "    <tr style=\"text-align: right;\">\n",
       "      <th></th>\n",
       "      <th>unom</th>\n",
       "      <th>Дата создания во внешней системе</th>\n",
       "      <th>Дата закрытия</th>\n",
       "      <th>Наименование</th>\n",
       "      <th>Округ</th>\n",
       "    </tr>\n",
       "  </thead>\n",
       "  <tbody>\n",
       "    <tr>\n",
       "      <th>0</th>\n",
       "      <td>308</td>\n",
       "      <td>2022-02-01 11:00:00</td>\n",
       "      <td>2022-02-01 14:00:00</td>\n",
       "      <td>Протечка с кровли</td>\n",
       "      <td>1</td>\n",
       "    </tr>\n",
       "    <tr>\n",
       "      <th>1</th>\n",
       "      <td>308</td>\n",
       "      <td>2022-03-16 14:00:00</td>\n",
       "      <td>2022-03-16 16:00:00</td>\n",
       "      <td>Засор канализации</td>\n",
       "      <td>1</td>\n",
       "    </tr>\n",
       "    <tr>\n",
       "      <th>2</th>\n",
       "      <td>308</td>\n",
       "      <td>2022-04-28 12:00:00</td>\n",
       "      <td>2022-04-28 12:00:00</td>\n",
       "      <td>Запах газа в кухне</td>\n",
       "      <td>1</td>\n",
       "    </tr>\n",
       "    <tr>\n",
       "      <th>3</th>\n",
       "      <td>308</td>\n",
       "      <td>2022-04-28 13:00:00</td>\n",
       "      <td>2022-04-28 21:00:00</td>\n",
       "      <td>Запах газа в кухне</td>\n",
       "      <td>1</td>\n",
       "    </tr>\n",
       "    <tr>\n",
       "      <th>4</th>\n",
       "      <td>308</td>\n",
       "      <td>2022-05-06 17:00:00</td>\n",
       "      <td>2022-06-11 01:00:00</td>\n",
       "      <td>Повреждение отделочных покрытий пола/стены/сту...</td>\n",
       "      <td>1</td>\n",
       "    </tr>\n",
       "  </tbody>\n",
       "</table>\n",
       "</div>"
      ],
      "text/plain": [
       "   unom Дата создания во внешней системе       Дата закрытия   \n",
       "0   308              2022-02-01 11:00:00 2022-02-01 14:00:00  \\\n",
       "1   308              2022-03-16 14:00:00 2022-03-16 16:00:00   \n",
       "2   308              2022-04-28 12:00:00 2022-04-28 12:00:00   \n",
       "3   308              2022-04-28 13:00:00 2022-04-28 21:00:00   \n",
       "4   308              2022-05-06 17:00:00 2022-06-11 01:00:00   \n",
       "\n",
       "                                        Наименование  Округ  \n",
       "0                                  Протечка с кровли      1  \n",
       "1                                  Засор канализации      1  \n",
       "2                                 Запах газа в кухне      1  \n",
       "3                                 Запах газа в кухне      1  \n",
       "4  Повреждение отделочных покрытий пола/стены/сту...      1  "
      ]
     },
     "execution_count": 48,
     "metadata": {},
     "output_type": "execute_result"
    }
   ],
   "source": [
    "# подсчет количества обращений по времени\n",
    "incidents_group_df = incidents_df.groupby([\"unom\", \"Дата создания во внешней системе\", \"Дата закрытия\", \"Наименование\"], as_index=False)[\"Округ\"].count()\n",
    "incidents_group_df.head()"
   ]
  },
  {
   "cell_type": "code",
   "execution_count": 50,
   "metadata": {},
   "outputs": [],
   "source": [
    "# расчет времени ликвидации\n",
    "incidents_group_df[\"Время ликвидации\"] = incidents_group_df[\"Дата закрытия\"] - incidents_group_df[\"Дата создания во внешней системе\"]"
   ]
  },
  {
   "cell_type": "code",
   "execution_count": 52,
   "metadata": {},
   "outputs": [
    {
     "data": {
      "text/plain": [
       "count                        933619\n",
       "mean     17 days 14:03:32.405702969\n",
       "std      57 days 21:28:36.069010718\n",
       "min               -1 days +21:00:00\n",
       "25%                 0 days 00:00:00\n",
       "50%                 0 days 02:00:00\n",
       "75%                 0 days 14:00:00\n",
       "max               499 days 22:00:00\n",
       "Name: Время ликвидации, dtype: object"
      ]
     },
     "execution_count": 52,
     "metadata": {},
     "output_type": "execute_result"
    }
   ],
   "source": [
    "# сводная статистика\n",
    "incidents_group_df[\"Время ликвидации\"].describe()"
   ]
  },
  {
   "cell_type": "code",
   "execution_count": 82,
   "metadata": {},
   "outputs": [
    {
     "data": {
      "text/plain": [
       "0   0 days 01:00:00\n",
       "Name: Время ликвидации, dtype: timedelta64[ns]"
      ]
     },
     "execution_count": 82,
     "metadata": {},
     "output_type": "execute_result"
    }
   ],
   "source": [
    "incidents_group_df[\"Время ликвидации\"].mode()"
   ]
  },
  {
   "cell_type": "code",
   "execution_count": 63,
   "metadata": {},
   "outputs": [
    {
     "data": {
      "text/html": [
       "<div>\n",
       "<style scoped>\n",
       "    .dataframe tbody tr th:only-of-type {\n",
       "        vertical-align: middle;\n",
       "    }\n",
       "\n",
       "    .dataframe tbody tr th {\n",
       "        vertical-align: top;\n",
       "    }\n",
       "\n",
       "    .dataframe thead th {\n",
       "        text-align: right;\n",
       "    }\n",
       "</style>\n",
       "<table border=\"1\" class=\"dataframe\">\n",
       "  <thead>\n",
       "    <tr style=\"text-align: right;\">\n",
       "      <th></th>\n",
       "      <th>unom</th>\n",
       "      <th>Дата создания во внешней системе</th>\n",
       "      <th>Дата закрытия</th>\n",
       "      <th>Наименование</th>\n",
       "      <th>Округ</th>\n",
       "      <th>Время ликвидации</th>\n",
       "    </tr>\n",
       "  </thead>\n",
       "  <tbody>\n",
       "    <tr>\n",
       "      <th>0</th>\n",
       "      <td>308</td>\n",
       "      <td>2022-02-01 11:00:00</td>\n",
       "      <td>2022-02-01 14:00:00</td>\n",
       "      <td>Протечка с кровли</td>\n",
       "      <td>1</td>\n",
       "      <td>0 days 03:00:00</td>\n",
       "    </tr>\n",
       "    <tr>\n",
       "      <th>1</th>\n",
       "      <td>308</td>\n",
       "      <td>2022-03-16 14:00:00</td>\n",
       "      <td>2022-03-16 16:00:00</td>\n",
       "      <td>Засор канализации</td>\n",
       "      <td>1</td>\n",
       "      <td>0 days 02:00:00</td>\n",
       "    </tr>\n",
       "    <tr>\n",
       "      <th>2</th>\n",
       "      <td>308</td>\n",
       "      <td>2022-04-28 12:00:00</td>\n",
       "      <td>2022-04-28 12:00:00</td>\n",
       "      <td>Запах газа в кухне</td>\n",
       "      <td>1</td>\n",
       "      <td>0 days 00:00:00</td>\n",
       "    </tr>\n",
       "    <tr>\n",
       "      <th>3</th>\n",
       "      <td>308</td>\n",
       "      <td>2022-04-28 13:00:00</td>\n",
       "      <td>2022-04-28 21:00:00</td>\n",
       "      <td>Запах газа в кухне</td>\n",
       "      <td>1</td>\n",
       "      <td>0 days 08:00:00</td>\n",
       "    </tr>\n",
       "    <tr>\n",
       "      <th>4</th>\n",
       "      <td>308</td>\n",
       "      <td>2022-05-06 17:00:00</td>\n",
       "      <td>2022-06-11 01:00:00</td>\n",
       "      <td>Повреждение отделочных покрытий пола/стены/сту...</td>\n",
       "      <td>1</td>\n",
       "      <td>35 days 08:00:00</td>\n",
       "    </tr>\n",
       "  </tbody>\n",
       "</table>\n",
       "</div>"
      ],
      "text/plain": [
       "   unom Дата создания во внешней системе       Дата закрытия   \n",
       "0   308              2022-02-01 11:00:00 2022-02-01 14:00:00  \\\n",
       "1   308              2022-03-16 14:00:00 2022-03-16 16:00:00   \n",
       "2   308              2022-04-28 12:00:00 2022-04-28 12:00:00   \n",
       "3   308              2022-04-28 13:00:00 2022-04-28 21:00:00   \n",
       "4   308              2022-05-06 17:00:00 2022-06-11 01:00:00   \n",
       "\n",
       "                                        Наименование  Округ Время ликвидации  \n",
       "0                                  Протечка с кровли      1  0 days 03:00:00  \n",
       "1                                  Засор канализации      1  0 days 02:00:00  \n",
       "2                                 Запах газа в кухне      1  0 days 00:00:00  \n",
       "3                                 Запах газа в кухне      1  0 days 08:00:00  \n",
       "4  Повреждение отделочных покрытий пола/стены/сту...      1 35 days 08:00:00  "
      ]
     },
     "execution_count": 63,
     "metadata": {},
     "output_type": "execute_result"
    }
   ],
   "source": [
    "# вывод данных\n",
    "incidents_group_df.head()"
   ]
  },
  {
   "cell_type": "code",
   "execution_count": 84,
   "metadata": {},
   "outputs": [],
   "source": [
    "# запись данных в файл\n",
    "incidents_group_df.to_csv(\"../data/incidents_group_df.csv\", index=False)"
   ]
  },
  {
   "cell_type": "code",
   "execution_count": 80,
   "metadata": {},
   "outputs": [
    {
     "data": {
      "text/plain": [
       "array(['Аварийная протечка с кровли', 'Аварийная протечка в подъезде',\n",
       "       'Аварийное повреждение лестницы',\n",
       "       'Аварийная протечка труб в подъезде'], dtype=object)"
      ]
     },
     "execution_count": 80,
     "metadata": {},
     "output_type": "execute_result"
    }
   ],
   "source": [
    "incidents_group_df[incidents_group_df[\"Наименование\"].apply(lambda x: \"авари\" in x.lower())][\"Наименование\"].unique()"
   ]
  },
  {
   "cell_type": "code",
   "execution_count": 76,
   "metadata": {},
   "outputs": [
    {
     "data": {
      "text/plain": [
       "array(['Повреждение кровли',\n",
       "       'Отсутствие освещения в местах общего пользования',\n",
       "       'Открыт шкаф УСПД', 'Нет связи с УСПД', 'Нет связи с ПУ',\n",
       "       'Засор канализации', 'Повреждение элементов входной двери',\n",
       "       'Поломка освещения перед подъездом',\n",
       "       'Загрязнение/замусоренность подъезда', 'Нет питания УСПД',\n",
       "       'Отсутствие ХВС в доме',\n",
       "       'Отсутствуют актуальные мгновенные значения',\n",
       "       'Температура в квартире ниже нормативной',\n",
       "       'Отсутствуют актуальные суточные значения', 'Неочищенная кровля',\n",
       "       'Протечка с кровли', 'Аварийная протечка с кровли',\n",
       "       'Аварийная протечка в подъезде', 'Недогрев ГВС',\n",
       "       'Повреждение системы электропроводки/щитового оборудования',\n",
       "       'Отсутствие ГВС в доме',\n",
       "       'Разбито/сломано/повреждено окно в местах общего пользования',\n",
       "       'Протечка в подъезде', 'Лифт требует ремонта', 'Загрязнение лифта',\n",
       "       'Изменение конфигурации УСПД', 'Запах газа в кухне',\n",
       "       'Повреждение внутренней двери', 'Поломка почтовых ящиков',\n",
       "       'Засор мусоропровода',\n",
       "       'Неудовлетворительное санитарное содержание мусоропровода',\n",
       "       'Отсутствует циркуляция ГВС', 'Повреждение инженерных сетей',\n",
       "       'T1 > max', 'Застревание в лифте',\n",
       "       'Неудовлетворительное техническое содержание мусоропровода',\n",
       "       'Поломка лифта', 'Блокировка входной двери',\n",
       "       'Неисправность запирающего устройства', 'Расхождение времени ПУ',\n",
       "       'Отсутствие освещения в лифте', 'Температура ГВС ниже нормы',\n",
       "       'Аварийное повреждение лестницы', 'Вибрирует газовая труба',\n",
       "       'Обрушение', 'Пожар; Задымление', 'Отсутствие отопления в доме',\n",
       "       'Повреждение козырька подъезда', 'Запах газа от колонки',\n",
       "       'Датчик вибрации',\n",
       "       'Наличие крыс/мышей/насекомых в местах общего пользования',\n",
       "       'Сильная течь в системе отопления',\n",
       "       'Загрязнение/замусоренность козырька', 'Запах газа на улице',\n",
       "       'Открыт колодец', 'Пожар', 'Течь в системе отопления', 'T1 < min',\n",
       "       'Низкий уровень сигнала GSM',\n",
       "       'Загрязнение окна в местах общего пользования',\n",
       "       'Повреждение межпанельных швов',\n",
       "       'Критичное отклонение температуры ГВС ниже нормы днем (мониторинг)',\n",
       "       'Неисправность пожарной сигнализации', 'Запах газа в подъезде',\n",
       "       'Засоры, засор на дворовой сети',\n",
       "       'Нарушение в работе газового оборудования',\n",
       "       'Повреждение пола/стены/ступеней/перил/других элементов',\n",
       "       'Запах газа от газового оборудования', 'Запах газа в квартире',\n",
       "       'Запах газа в холле', 'Загрязнение воды',\n",
       "       'Протечка с балкона/козырька', 'Повреждение элементов фасада',\n",
       "       'Запах газа в квартире (помещении)',\n",
       "       'Проверить настенный газопровод', 'Подтопление канала теплосети',\n",
       "       'Колодцы, прочее', 'Загрязнение отделочных покрытий',\n",
       "       'Запах газа в кухне; Запах газа от газового оборудования',\n",
       "       'Запах газа в доме',\n",
       "       'Повреждение отделочных покрытий пола/стены/ступеней/перил/других элементов',\n",
       "       'Наличие грибка/плесени',\n",
       "       'Температура в помещении общего пользования ниже нормативной',\n",
       "       'Недокомплект пожарного шкафа', 'Протечка труб в подъезде',\n",
       "       'Поломка пандуса', 'P1 <= 0', 'Подтопление, прочее', 'Нет  газа',\n",
       "       'Колодцы, разрушен асфальт вокруг колодца',\n",
       "       'Несовпадение серийного номера ПУ на УСПД',\n",
       "       'Запах газа с улицы в квартиру',\n",
       "       'Гул (шум, вибрация) от газопровода', 'Угроза взрыва',\n",
       "       'Неработоспособность подъемной платформы для инвалидов',\n",
       "       'Прорыв теплосети (водопровода)', 'Открыта крышка колодца',\n",
       "       'Запах газа в помещении', 'Слабое горение',\n",
       "       'Изменение канала связи', 'Провал', 'Нет газа', 'Задымление',\n",
       "       'Запах газа в подъезде и квартире',\n",
       "       'Подтопление, течь трубопровода на водомерном узле',\n",
       "       'Запах газа из закрытой квартиры', 'Провал грунта вокруг ковера',\n",
       "       'Нарушение на настенном газопроводе',\n",
       "       'Наличие надписей/объявлений', 'Нет газа в кваптире',\n",
       "       'Течет вода из колонки.', 'Запах  газа  на  улице и в подъезде',\n",
       "       'Провалы, прочее', 'Запах гари в квартире/подъезде',\n",
       "       'Отсутствие связи',\n",
       "       'Критичное отклонение температуры ГВС ниже нормы ночью (мониторинг)',\n",
       "       'Нарушение подачи воды, прочее', 'Хлопок газа',\n",
       "       'Запах газа в квартире (помещении); Запах газа в доме',\n",
       "       'Запах газа в кухне; Запах газа в квартире (помещении)',\n",
       "       'Нарушение на настенном газопроводе; Гул (шум, вибрация) от газопровода',\n",
       "       'Запах газа на улице; Запах газа в доме',\n",
       "       'Отклонение ГВС ниже нормы днем (мониторинг)', 'P2 <= 0',\n",
       "       'Запах газа в кухне; Запах газа в доме',\n",
       "       'Отклонение ГВС ниже нормы ночью (мониторинг)',\n",
       "       'Просадка асфальта вокруг колодца', 'Колодцы, провал колодца',\n",
       "       'Занижен ковер', 'Открыта крышка колодца (трещит крышка ковера)',\n",
       "       'Гремит крышка ковера', 'Гремит  крышка ковера',\n",
       "       'стучит крышка ковера', 'Пожар; Запах газа в кухне',\n",
       "       'Загрязнение внутренней двери', 'Колодцы, люк занижен',\n",
       "       'Запах газа от газового оборудования; Запах газа в доме',\n",
       "       'Аномальное значение объема в обратном трубопроводе',\n",
       "       'Отсутствует крышка колодца', 'Отсутствует крышка ковера',\n",
       "       'Не  работает  АГВ', 'Повреждение/поломка светильника',\n",
       "       'Отсутствует крышка люка', 'просел ковер',\n",
       "       'Утечка воды, течет водопроводная колонка или подводка',\n",
       "       'Погас Вечный огонь', 'Запах газа в кухне и в холле',\n",
       "       'Запах газа в квартире (помещении); Запах газа на улице; Запах газа в доме'],\n",
       "      dtype=object)"
      ]
     },
     "execution_count": 76,
     "metadata": {},
     "output_type": "execute_result"
    }
   ],
   "source": [
    "incidents_group_df[(incidents_group_df[\"Время ликвидации\"] > incidents_group_df[\"Время ликвидации\"].quantile(0.25)) &\\\n",
    " (incidents_group_df[\"Время ликвидации\"] < incidents_group_df[\"Время ликвидации\"].quantile(0.50))][\"Наименование\"].unique()"
   ]
  },
  {
   "cell_type": "code",
   "execution_count": 62,
   "metadata": {},
   "outputs": [
    {
     "data": {
      "text/plain": [
       "array(['Нет связи с ПУ', 'Нет питания УСПД',\n",
       "       'Изменение конфигурации УСПД', 'Низкий уровень сигнала GSM',\n",
       "       'Отсутствуют актуальные суточные значения', 'Нет связи с УСПД',\n",
       "       'Отсутствуют актуальные мгновенные значения', 'Открыт шкаф УСПД',\n",
       "       'Отсутствие связи', 'Отрицательные интегральные значения',\n",
       "       'Отсутствует циркуляция ГВС',\n",
       "       'Отклонение ГВС ниже нормы днем (мониторинг)',\n",
       "       'Критичное отклонение температуры ГВС ниже нормы ночью (мониторинг)',\n",
       "       'Отклонение ГВС ниже нормы ночью (мониторинг)',\n",
       "       'Критичное отклонение температуры ГВС ниже нормы днем (мониторинг)',\n",
       "       'Температура ГВС ниже нормы', 'T1 > max', 'Расхождение времени ПУ',\n",
       "       'Датчик вибрации', 'Аномальное значение разницы температур',\n",
       "       'Аномальное значение времени наработки',\n",
       "       'Аномальное значение объема в обратном трубопроводе',\n",
       "       'Аномальное значение температуры в обратном трубопроводе',\n",
       "       'T1 < min',\n",
       "       'Аномальное значение температуры в подающем трубопроводе',\n",
       "       'P1 <= 0', 'Несовпадение серийного номера ПУ на УСПД',\n",
       "       'Аномальное значение объема в подающем трубопроводе',\n",
       "       'Аномальное значение разницы объемов',\n",
       "       'Аномальное значение массы в подающем трубопроводе',\n",
       "       'Аномальное значение отпущенной тепловой энергии',\n",
       "       'Изменение канала связи', 'P2 <= 0', 'Иные нарушения'],\n",
       "      dtype=object)"
      ]
     },
     "execution_count": 62,
     "metadata": {},
     "output_type": "execute_result"
    }
   ],
   "source": [
    "incidents_group_df[incidents_group_df[\"Время ликвидации\"] < incidents_group_df[\"Время ликвидации\"].quantile(0.25)][\"Наименование\"].unique()"
   ]
  },
  {
   "cell_type": "code",
   "execution_count": 81,
   "metadata": {},
   "outputs": [
    {
     "data": {
      "text/html": [
       "<div>\n",
       "<style scoped>\n",
       "    .dataframe tbody tr th:only-of-type {\n",
       "        vertical-align: middle;\n",
       "    }\n",
       "\n",
       "    .dataframe tbody tr th {\n",
       "        vertical-align: top;\n",
       "    }\n",
       "\n",
       "    .dataframe thead th {\n",
       "        text-align: right;\n",
       "    }\n",
       "</style>\n",
       "<table border=\"1\" class=\"dataframe\">\n",
       "  <thead>\n",
       "    <tr style=\"text-align: right;\">\n",
       "      <th></th>\n",
       "      <th>unom</th>\n",
       "      <th>Дата создания во внешней системе</th>\n",
       "      <th>Дата закрытия</th>\n",
       "      <th>Наименование</th>\n",
       "      <th>Округ</th>\n",
       "      <th>Время ликвидации</th>\n",
       "    </tr>\n",
       "  </thead>\n",
       "  <tbody>\n",
       "    <tr>\n",
       "      <th>0</th>\n",
       "      <td>308</td>\n",
       "      <td>2022-02-01 11:00:00</td>\n",
       "      <td>2022-02-01 14:00:00</td>\n",
       "      <td>Протечка с кровли</td>\n",
       "      <td>1</td>\n",
       "      <td>0 days 03:00:00</td>\n",
       "    </tr>\n",
       "    <tr>\n",
       "      <th>1</th>\n",
       "      <td>308</td>\n",
       "      <td>2022-03-16 14:00:00</td>\n",
       "      <td>2022-03-16 16:00:00</td>\n",
       "      <td>Засор канализации</td>\n",
       "      <td>1</td>\n",
       "      <td>0 days 02:00:00</td>\n",
       "    </tr>\n",
       "    <tr>\n",
       "      <th>2</th>\n",
       "      <td>308</td>\n",
       "      <td>2022-04-28 12:00:00</td>\n",
       "      <td>2022-04-28 12:00:00</td>\n",
       "      <td>Запах газа в кухне</td>\n",
       "      <td>1</td>\n",
       "      <td>0 days 00:00:00</td>\n",
       "    </tr>\n",
       "    <tr>\n",
       "      <th>3</th>\n",
       "      <td>308</td>\n",
       "      <td>2022-04-28 13:00:00</td>\n",
       "      <td>2022-04-28 21:00:00</td>\n",
       "      <td>Запах газа в кухне</td>\n",
       "      <td>1</td>\n",
       "      <td>0 days 08:00:00</td>\n",
       "    </tr>\n",
       "    <tr>\n",
       "      <th>4</th>\n",
       "      <td>308</td>\n",
       "      <td>2022-05-06 17:00:00</td>\n",
       "      <td>2022-06-11 01:00:00</td>\n",
       "      <td>Повреждение отделочных покрытий пола/стены/сту...</td>\n",
       "      <td>1</td>\n",
       "      <td>35 days 08:00:00</td>\n",
       "    </tr>\n",
       "    <tr>\n",
       "      <th>...</th>\n",
       "      <td>...</td>\n",
       "      <td>...</td>\n",
       "      <td>...</td>\n",
       "      <td>...</td>\n",
       "      <td>...</td>\n",
       "      <td>...</td>\n",
       "    </tr>\n",
       "    <tr>\n",
       "      <th>933614</th>\n",
       "      <td>5283529</td>\n",
       "      <td>2022-12-30 22:00:00</td>\n",
       "      <td>2023-02-28 14:00:00</td>\n",
       "      <td>Засоры, засор на дворовой сети</td>\n",
       "      <td>1</td>\n",
       "      <td>59 days 16:00:00</td>\n",
       "    </tr>\n",
       "    <tr>\n",
       "      <th>933615</th>\n",
       "      <td>5286357</td>\n",
       "      <td>2022-04-24 17:00:00</td>\n",
       "      <td>2022-04-24 17:00:00</td>\n",
       "      <td>Угроза взрыва</td>\n",
       "      <td>1</td>\n",
       "      <td>0 days 00:00:00</td>\n",
       "    </tr>\n",
       "    <tr>\n",
       "      <th>933616</th>\n",
       "      <td>5286357</td>\n",
       "      <td>2022-11-25 12:00:00</td>\n",
       "      <td>2023-04-07 18:00:00</td>\n",
       "      <td>Угроза взрыва</td>\n",
       "      <td>1</td>\n",
       "      <td>133 days 06:00:00</td>\n",
       "    </tr>\n",
       "    <tr>\n",
       "      <th>933617</th>\n",
       "      <td>5288995</td>\n",
       "      <td>2022-07-05 11:00:00</td>\n",
       "      <td>2023-01-10 15:00:00</td>\n",
       "      <td>Засоры, засор на дворовой сети</td>\n",
       "      <td>1</td>\n",
       "      <td>189 days 04:00:00</td>\n",
       "    </tr>\n",
       "    <tr>\n",
       "      <th>933618</th>\n",
       "      <td>5289239</td>\n",
       "      <td>2022-04-16 13:00:00</td>\n",
       "      <td>2022-04-16 13:00:00</td>\n",
       "      <td>Пожар; Задымление</td>\n",
       "      <td>1</td>\n",
       "      <td>0 days 00:00:00</td>\n",
       "    </tr>\n",
       "  </tbody>\n",
       "</table>\n",
       "<p>933619 rows × 6 columns</p>\n",
       "</div>"
      ],
      "text/plain": [
       "           unom Дата создания во внешней системе       Дата закрытия   \n",
       "0           308              2022-02-01 11:00:00 2022-02-01 14:00:00  \\\n",
       "1           308              2022-03-16 14:00:00 2022-03-16 16:00:00   \n",
       "2           308              2022-04-28 12:00:00 2022-04-28 12:00:00   \n",
       "3           308              2022-04-28 13:00:00 2022-04-28 21:00:00   \n",
       "4           308              2022-05-06 17:00:00 2022-06-11 01:00:00   \n",
       "...         ...                              ...                 ...   \n",
       "933614  5283529              2022-12-30 22:00:00 2023-02-28 14:00:00   \n",
       "933615  5286357              2022-04-24 17:00:00 2022-04-24 17:00:00   \n",
       "933616  5286357              2022-11-25 12:00:00 2023-04-07 18:00:00   \n",
       "933617  5288995              2022-07-05 11:00:00 2023-01-10 15:00:00   \n",
       "933618  5289239              2022-04-16 13:00:00 2022-04-16 13:00:00   \n",
       "\n",
       "                                             Наименование  Округ   \n",
       "0                                       Протечка с кровли      1  \\\n",
       "1                                       Засор канализации      1   \n",
       "2                                      Запах газа в кухне      1   \n",
       "3                                      Запах газа в кухне      1   \n",
       "4       Повреждение отделочных покрытий пола/стены/сту...      1   \n",
       "...                                                   ...    ...   \n",
       "933614                     Засоры, засор на дворовой сети      1   \n",
       "933615                                      Угроза взрыва      1   \n",
       "933616                                      Угроза взрыва      1   \n",
       "933617                     Засоры, засор на дворовой сети      1   \n",
       "933618                                  Пожар; Задымление      1   \n",
       "\n",
       "        Время ликвидации  \n",
       "0        0 days 03:00:00  \n",
       "1        0 days 02:00:00  \n",
       "2        0 days 00:00:00  \n",
       "3        0 days 08:00:00  \n",
       "4       35 days 08:00:00  \n",
       "...                  ...  \n",
       "933614  59 days 16:00:00  \n",
       "933615   0 days 00:00:00  \n",
       "933616 133 days 06:00:00  \n",
       "933617 189 days 04:00:00  \n",
       "933618   0 days 00:00:00  \n",
       "\n",
       "[933619 rows x 6 columns]"
      ]
     },
     "execution_count": 81,
     "metadata": {},
     "output_type": "execute_result"
    }
   ],
   "source": [
    "incidents_group_df"
   ]
  }
 ],
 "metadata": {
  "kernelspec": {
   "display_name": "venv",
   "language": "python",
   "name": "python3"
  },
  "language_info": {
   "codemirror_mode": {
    "name": "ipython",
    "version": 3
   },
   "file_extension": ".py",
   "mimetype": "text/x-python",
   "name": "python",
   "nbconvert_exporter": "python",
   "pygments_lexer": "ipython3",
   "version": "3.11.3"
  },
  "orig_nbformat": 4
 },
 "nbformat": 4,
 "nbformat_minor": 2
}
