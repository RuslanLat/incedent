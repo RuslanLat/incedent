{
 "cells": [
  {
   "cell_type": "code",
   "execution_count": 1,
   "metadata": {},
   "outputs": [],
   "source": [
    "# импорт необходимых библиотек\n",
    "import pandas as pd\n",
    "import os\n",
    "from docx import Document"
   ]
  },
  {
   "cell_type": "code",
   "execution_count": 2,
   "metadata": {},
   "outputs": [],
   "source": [
    "# путь к файлам\n",
    "PACH_DATA = \"../raw_data/\""
   ]
  },
  {
   "cell_type": "code",
   "execution_count": 3,
   "metadata": {},
   "outputs": [
    {
     "data": {
      "text/plain": [
       "['1_Многоквартирные дома с технико-экономическими характеристиками.xlsx',\n",
       " '2_Инциденты,_зарегистрированные_на_объектах_городского_хозяйства (2).xlsx',\n",
       " '2_Инциденты,_зарегистрированные_на_объектах_городского_хозяйства.xlsx',\n",
       " '3_Работы по капитальному ремонту, проведенные в многоквартирных домах.xlsx',\n",
       " '4_Виды работ по капитальному ремонту многоквартирных домов.xlsx',\n",
       " '4_Виды работ по содержанию и ремонту общего имущества многоквартирных домов.xlsx',\n",
       " '4_Виды_работ_по_капитальному_ремонту_многоквартирных_домов_с_фактом (3).xlsx',\n",
       " '5_Типы событий, регистрируемых по типу объекта многоквартирный дом.xlsx',\n",
       " 'Объекты_модели_Группы_видов_работ_по_содержанию_и_ремонту_общего.xlsx',\n",
       " 'Описание примеров данных.docx']"
      ]
     },
     "execution_count": 3,
     "metadata": {},
     "output_type": "execute_result"
    }
   ],
   "source": [
    "# вывод файлов директории \"data\"\n",
    "data_list = os.listdir(PACH_DATA)\n",
    "data_list"
   ]
  },
  {
   "attachments": {},
   "cell_type": "markdown",
   "metadata": {},
   "source": [
    "### Описание примеров данных"
   ]
  },
  {
   "cell_type": "code",
   "execution_count": 4,
   "metadata": {},
   "outputs": [],
   "source": [
    "# загрузка данных файла 'Описание примеров данных.docx'\n",
    "document = Document(PACH_DATA + data_list[-1])"
   ]
  },
  {
   "cell_type": "code",
   "execution_count": 5,
   "metadata": {},
   "outputs": [],
   "source": [
    "# парсинг таблиц данных файла 'Описание примеров данных.docx'\n",
    "df_tables = []\n",
    "for table in document.tables:\n",
    "    df = [['' for i in range(len(table.columns))] for j in range(len(table.rows))]\n",
    "    for i, row in enumerate(table.rows):\n",
    "        for j, cell in enumerate(row.cells):\n",
    "            if cell.text:\n",
    "                df[i][j] = cell.text\n",
    "    df_tables.append(pd.DataFrame(df[1:], columns=df[0]))"
   ]
  },
  {
   "cell_type": "code",
   "execution_count": 6,
   "metadata": {},
   "outputs": [
    {
     "data": {
      "text/plain": [
       "16"
      ]
     },
     "execution_count": 6,
     "metadata": {},
     "output_type": "execute_result"
    }
   ],
   "source": [
    "# количество обнаруженных таблиц\n",
    "len(df_tables)"
   ]
  },
  {
   "attachments": {},
   "cell_type": "markdown",
   "metadata": {},
   "source": [
    "### Работы по капитальному ремонту, проведенные в многоквартирных домах"
   ]
  },
  {
   "cell_type": "code",
   "execution_count": 11,
   "metadata": {},
   "outputs": [
    {
     "data": {
      "text/plain": [
       "'3_Работы по капитальному ремонту, проведенные в многоквартирных домах.xlsx'"
      ]
     },
     "execution_count": 11,
     "metadata": {},
     "output_type": "execute_result"
    }
   ],
   "source": [
    "# путь к данным\n",
    "data_list[3]"
   ]
  },
  {
   "cell_type": "code",
   "execution_count": 13,
   "metadata": {},
   "outputs": [
    {
     "data": {
      "text/html": [
       "<div>\n",
       "<style scoped>\n",
       "    .dataframe tbody tr th:only-of-type {\n",
       "        vertical-align: middle;\n",
       "    }\n",
       "\n",
       "    .dataframe tbody tr th {\n",
       "        vertical-align: top;\n",
       "    }\n",
       "\n",
       "    .dataframe thead th {\n",
       "        text-align: right;\n",
       "    }\n",
       "</style>\n",
       "<table border=\"1\" class=\"dataframe\">\n",
       "  <thead>\n",
       "    <tr style=\"text-align: right;\">\n",
       "      <th></th>\n",
       "      <th>Наименование</th>\n",
       "      <th>Комментарий</th>\n",
       "    </tr>\n",
       "  </thead>\n",
       "  <tbody>\n",
       "    <tr>\n",
       "      <th>0</th>\n",
       "      <td>global_id</td>\n",
       "      <td>Уникальный идентификатор работы на объекте (в ...</td>\n",
       "    </tr>\n",
       "    <tr>\n",
       "      <th>1</th>\n",
       "      <td>PERIOD</td>\n",
       "      <td>Период работы</td>\n",
       "    </tr>\n",
       "    <tr>\n",
       "      <th>2</th>\n",
       "      <td>WORK_NAME</td>\n",
       "      <td>Наименование работы</td>\n",
       "    </tr>\n",
       "    <tr>\n",
       "      <th>3</th>\n",
       "      <td>NUM_ENTRANCE</td>\n",
       "      <td>Подъезд</td>\n",
       "    </tr>\n",
       "    <tr>\n",
       "      <th>4</th>\n",
       "      <td>ElevatorNumber</td>\n",
       "      <td>Номер лифта</td>\n",
       "    </tr>\n",
       "    <tr>\n",
       "      <th>5</th>\n",
       "      <td>PLAN_DATE_START</td>\n",
       "      <td>Плановая дата начала работы</td>\n",
       "    </tr>\n",
       "    <tr>\n",
       "      <th>6</th>\n",
       "      <td>PLAN_DATE_END</td>\n",
       "      <td>Плановая дата окончания работы</td>\n",
       "    </tr>\n",
       "    <tr>\n",
       "      <th>7</th>\n",
       "      <td>FACT_DATE_START</td>\n",
       "      <td>Фактическая дата начала работы</td>\n",
       "    </tr>\n",
       "    <tr>\n",
       "      <th>8</th>\n",
       "      <td>FACT_DATE_END</td>\n",
       "      <td>Фактическая дата окончания работы</td>\n",
       "    </tr>\n",
       "    <tr>\n",
       "      <th>9</th>\n",
       "      <td>STATE</td>\n",
       "      <td>Статус работы</td>\n",
       "    </tr>\n",
       "    <tr>\n",
       "      <th>10</th>\n",
       "      <td>AdmArea</td>\n",
       "      <td>Административный округ</td>\n",
       "    </tr>\n",
       "    <tr>\n",
       "      <th>11</th>\n",
       "      <td>District</td>\n",
       "      <td>Район</td>\n",
       "    </tr>\n",
       "    <tr>\n",
       "      <th>12</th>\n",
       "      <td>UNOM</td>\n",
       "      <td>Код адреса по АР</td>\n",
       "    </tr>\n",
       "    <tr>\n",
       "      <th>13</th>\n",
       "      <td>Address</td>\n",
       "      <td>Адрес</td>\n",
       "    </tr>\n",
       "  </tbody>\n",
       "</table>\n",
       "</div>"
      ],
      "text/plain": [
       "       Наименование                                        Комментарий\n",
       "0         global_id  Уникальный идентификатор работы на объекте (в ...\n",
       "1            PERIOD                                      Период работы\n",
       "2         WORK_NAME                                Наименование работы\n",
       "3      NUM_ENTRANCE                                            Подъезд\n",
       "4    ElevatorNumber                                        Номер лифта\n",
       "5   PLAN_DATE_START                        Плановая дата начала работы\n",
       "6     PLAN_DATE_END                     Плановая дата окончания работы\n",
       "7   FACT_DATE_START                     Фактическая дата начала работы\n",
       "8     FACT_DATE_END                  Фактическая дата окончания работы\n",
       "9             STATE                                      Статус работы\n",
       "10          AdmArea                             Административный округ\n",
       "11         District                                              Район\n",
       "12             UNOM                                   Код адреса по АР\n",
       "13          Address                                              Адрес"
      ]
     },
     "execution_count": 13,
     "metadata": {},
     "output_type": "execute_result"
    }
   ],
   "source": [
    "# описание данных\n",
    "df_tables[12]"
   ]
  },
  {
   "cell_type": "code",
   "execution_count": 14,
   "metadata": {},
   "outputs": [
    {
     "name": "stdout",
     "output_type": "stream",
     "text": [
      "['Лист3']\n"
     ]
    }
   ],
   "source": [
    "# вывод наименование листов в файле \"3_Работы по капитальному ремонту, проведенные в многоквартирных домах.xlsx\"\n",
    "xlsx_file = pd.ExcelFile(PACH_DATA + data_list[3])\n",
    "sheet_names = xlsx_file.sheet_names\n",
    "print(sheet_names)"
   ]
  },
  {
   "cell_type": "code",
   "execution_count": 15,
   "metadata": {},
   "outputs": [
    {
     "data": {
      "text/html": [
       "<div>\n",
       "<style scoped>\n",
       "    .dataframe tbody tr th:only-of-type {\n",
       "        vertical-align: middle;\n",
       "    }\n",
       "\n",
       "    .dataframe tbody tr th {\n",
       "        vertical-align: top;\n",
       "    }\n",
       "\n",
       "    .dataframe thead th {\n",
       "        text-align: right;\n",
       "    }\n",
       "</style>\n",
       "<table border=\"1\" class=\"dataframe\">\n",
       "  <thead>\n",
       "    <tr style=\"text-align: right;\">\n",
       "      <th></th>\n",
       "      <th>global_id</th>\n",
       "      <th>PERIOD</th>\n",
       "      <th>WORK_NAME</th>\n",
       "      <th>NUM_ENTRANCE</th>\n",
       "      <th>ElevatorNumber</th>\n",
       "      <th>PLAN_DATE_START</th>\n",
       "      <th>PLAN_DATE_END</th>\n",
       "      <th>FACT_DATE_START</th>\n",
       "      <th>FACT_DATE_END</th>\n",
       "      <th>AdmArea</th>\n",
       "      <th>District</th>\n",
       "      <th>Address</th>\n",
       "      <th>UNOM</th>\n",
       "    </tr>\n",
       "  </thead>\n",
       "  <tbody>\n",
       "    <tr>\n",
       "      <th>0</th>\n",
       "      <td>351060</td>\n",
       "      <td>2022</td>\n",
       "      <td>замена лифтового оборудования</td>\n",
       "      <td>1.0</td>\n",
       "      <td>1</td>\n",
       "      <td>15.07.2022</td>\n",
       "      <td>28.08.2022</td>\n",
       "      <td>27.06.2022</td>\n",
       "      <td>14.10.2022</td>\n",
       "      <td>Восточный административный округ</td>\n",
       "      <td>район Богородское</td>\n",
       "      <td>Российская Федерация, город Москва, внутригоро...</td>\n",
       "      <td>20151</td>\n",
       "    </tr>\n",
       "    <tr>\n",
       "      <th>1</th>\n",
       "      <td>430496</td>\n",
       "      <td>2022</td>\n",
       "      <td>замена лифтового оборудования</td>\n",
       "      <td>1.0</td>\n",
       "      <td>1</td>\n",
       "      <td>30.09.2022</td>\n",
       "      <td>14.10.2022</td>\n",
       "      <td>30.09.2022</td>\n",
       "      <td>21.10.2022</td>\n",
       "      <td>Восточный административный округ</td>\n",
       "      <td>район Богородское</td>\n",
       "      <td>Российская Федерация, город Москва, внутригоро...</td>\n",
       "      <td>20151</td>\n",
       "    </tr>\n",
       "    <tr>\n",
       "      <th>2</th>\n",
       "      <td>348580</td>\n",
       "      <td>2022</td>\n",
       "      <td>ремонт внутридомовых инженерных систем водоотв...</td>\n",
       "      <td>NaN</td>\n",
       "      <td>NaN</td>\n",
       "      <td>21.02.2022</td>\n",
       "      <td>20.06.2022</td>\n",
       "      <td>01.02.2022</td>\n",
       "      <td>25.05.2022</td>\n",
       "      <td>Восточный административный округ</td>\n",
       "      <td>район Богородское</td>\n",
       "      <td>Российская Федерация, город Москва, внутригоро...</td>\n",
       "      <td>11466</td>\n",
       "    </tr>\n",
       "    <tr>\n",
       "      <th>3</th>\n",
       "      <td>348581</td>\n",
       "      <td>2022</td>\n",
       "      <td>ремонт внутридомовых инженерных систем теплосн...</td>\n",
       "      <td>NaN</td>\n",
       "      <td>NaN</td>\n",
       "      <td>21.04.2022</td>\n",
       "      <td>10.07.2022</td>\n",
       "      <td>07.05.2022</td>\n",
       "      <td>03.08.2022</td>\n",
       "      <td>Восточный административный округ</td>\n",
       "      <td>район Богородское</td>\n",
       "      <td>Российская Федерация, город Москва, внутригоро...</td>\n",
       "      <td>11466</td>\n",
       "    </tr>\n",
       "    <tr>\n",
       "      <th>4</th>\n",
       "      <td>348578</td>\n",
       "      <td>2022</td>\n",
       "      <td>ремонт внутридомовых инженерных систем холодно...</td>\n",
       "      <td>NaN</td>\n",
       "      <td>NaN</td>\n",
       "      <td>21.02.2022</td>\n",
       "      <td>20.06.2022</td>\n",
       "      <td>01.02.2022</td>\n",
       "      <td>27.06.2022</td>\n",
       "      <td>Восточный административный округ</td>\n",
       "      <td>район Богородское</td>\n",
       "      <td>Российская Федерация, город Москва, внутригоро...</td>\n",
       "      <td>11466</td>\n",
       "    </tr>\n",
       "  </tbody>\n",
       "</table>\n",
       "</div>"
      ],
      "text/plain": [
       "   global_id  PERIOD                                          WORK_NAME   \n",
       "0     351060    2022                      замена лифтового оборудования  \\\n",
       "1     430496    2022                      замена лифтового оборудования   \n",
       "2     348580    2022  ремонт внутридомовых инженерных систем водоотв...   \n",
       "3     348581    2022  ремонт внутридомовых инженерных систем теплосн...   \n",
       "4     348578    2022  ремонт внутридомовых инженерных систем холодно...   \n",
       "\n",
       "   NUM_ENTRANCE ElevatorNumber PLAN_DATE_START PLAN_DATE_END FACT_DATE_START   \n",
       "0           1.0              1      15.07.2022    28.08.2022      27.06.2022  \\\n",
       "1           1.0              1      30.09.2022    14.10.2022      30.09.2022   \n",
       "2           NaN            NaN      21.02.2022    20.06.2022      01.02.2022   \n",
       "3           NaN            NaN      21.04.2022    10.07.2022      07.05.2022   \n",
       "4           NaN            NaN      21.02.2022    20.06.2022      01.02.2022   \n",
       "\n",
       "  FACT_DATE_END                           AdmArea           District   \n",
       "0    14.10.2022  Восточный административный округ  район Богородское  \\\n",
       "1    21.10.2022  Восточный административный округ  район Богородское   \n",
       "2    25.05.2022  Восточный административный округ  район Богородское   \n",
       "3    03.08.2022  Восточный административный округ  район Богородское   \n",
       "4    27.06.2022  Восточный административный округ  район Богородское   \n",
       "\n",
       "                                             Address   UNOM  \n",
       "0  Российская Федерация, город Москва, внутригоро...  20151  \n",
       "1  Российская Федерация, город Москва, внутригоро...  20151  \n",
       "2  Российская Федерация, город Москва, внутригоро...  11466  \n",
       "3  Российская Федерация, город Москва, внутригоро...  11466  \n",
       "4  Российская Федерация, город Москва, внутригоро...  11466  "
      ]
     },
     "execution_count": 15,
     "metadata": {},
     "output_type": "execute_result"
    }
   ],
   "source": [
    "# загрузка данных\n",
    "overhaul_df = pd.read_excel(PACH_DATA + data_list[3], sheet_name=\"Лист3\")\n",
    "overhaul_df.head()"
   ]
  },
  {
   "cell_type": "code",
   "execution_count": 18,
   "metadata": {},
   "outputs": [
    {
     "data": {
      "text/plain": [
       "(1747, 13)"
      ]
     },
     "execution_count": 18,
     "metadata": {},
     "output_type": "execute_result"
    }
   ],
   "source": [
    "# размерность данных\n",
    "overhaul_df.shape"
   ]
  },
  {
   "cell_type": "code",
   "execution_count": 21,
   "metadata": {},
   "outputs": [
    {
     "data": {
      "text/plain": [
       "NUM_ENTRANCE       83.69 %\n",
       "ElevatorNumber     83.69 %\n",
       "global_id            0.0 %\n",
       "PERIOD               0.0 %\n",
       "WORK_NAME            0.0 %\n",
       "PLAN_DATE_START      0.0 %\n",
       "PLAN_DATE_END        0.0 %\n",
       "FACT_DATE_START      0.0 %\n",
       "FACT_DATE_END        0.0 %\n",
       "AdmArea              0.0 %\n",
       "District             0.0 %\n",
       "Address              0.0 %\n",
       "UNOM                 0.0 %\n",
       "dtype: object"
      ]
     },
     "execution_count": 21,
     "metadata": {},
     "output_type": "execute_result"
    }
   ],
   "source": [
    "# процентное соотношение пропусков в данных\n",
    "(overhaul_df.isna().sum() / overhaul_df.shape[0] * 100) \\\n",
    "    .sort_values(ascending=False).round(2)[:20].astype('str') + ' %'"
   ]
  },
  {
   "cell_type": "code",
   "execution_count": 22,
   "metadata": {},
   "outputs": [
    {
     "data": {
      "text/plain": [
       "global_id            int64\n",
       "PERIOD               int64\n",
       "WORK_NAME           object\n",
       "NUM_ENTRANCE       float64\n",
       "ElevatorNumber      object\n",
       "PLAN_DATE_START     object\n",
       "PLAN_DATE_END       object\n",
       "FACT_DATE_START     object\n",
       "FACT_DATE_END       object\n",
       "AdmArea             object\n",
       "District            object\n",
       "Address             object\n",
       "UNOM                 int64\n",
       "dtype: object"
      ]
     },
     "execution_count": 22,
     "metadata": {},
     "output_type": "execute_result"
    }
   ],
   "source": [
    "# типы данных\n",
    "overhaul_df.dtypes\n"
   ]
  },
  {
   "cell_type": "code",
   "execution_count": 25,
   "metadata": {},
   "outputs": [],
   "source": [
    "# заполнение пропусков исходя из контекста данных\n",
    "overhaul_df[\"NUM_ENTRANCE\"] = overhaul_df[\"NUM_ENTRANCE\"].fillna(1).astype(\"int\")\n",
    "overhaul_df[\"ElevatorNumber\"] = overhaul_df[\"ElevatorNumber\"].fillna(\"нет лифта\")"
   ]
  },
  {
   "cell_type": "code",
   "execution_count": 26,
   "metadata": {},
   "outputs": [
    {
     "data": {
      "text/html": [
       "<div>\n",
       "<style scoped>\n",
       "    .dataframe tbody tr th:only-of-type {\n",
       "        vertical-align: middle;\n",
       "    }\n",
       "\n",
       "    .dataframe tbody tr th {\n",
       "        vertical-align: top;\n",
       "    }\n",
       "\n",
       "    .dataframe thead th {\n",
       "        text-align: right;\n",
       "    }\n",
       "</style>\n",
       "<table border=\"1\" class=\"dataframe\">\n",
       "  <thead>\n",
       "    <tr style=\"text-align: right;\">\n",
       "      <th></th>\n",
       "      <th>global_id</th>\n",
       "      <th>PERIOD</th>\n",
       "      <th>WORK_NAME</th>\n",
       "      <th>NUM_ENTRANCE</th>\n",
       "      <th>ElevatorNumber</th>\n",
       "      <th>PLAN_DATE_START</th>\n",
       "      <th>PLAN_DATE_END</th>\n",
       "      <th>FACT_DATE_START</th>\n",
       "      <th>FACT_DATE_END</th>\n",
       "      <th>AdmArea</th>\n",
       "      <th>District</th>\n",
       "      <th>Address</th>\n",
       "      <th>UNOM</th>\n",
       "    </tr>\n",
       "  </thead>\n",
       "  <tbody>\n",
       "    <tr>\n",
       "      <th>0</th>\n",
       "      <td>351060</td>\n",
       "      <td>2022</td>\n",
       "      <td>замена лифтового оборудования</td>\n",
       "      <td>1</td>\n",
       "      <td>1</td>\n",
       "      <td>15.07.2022</td>\n",
       "      <td>28.08.2022</td>\n",
       "      <td>27.06.2022</td>\n",
       "      <td>14.10.2022</td>\n",
       "      <td>Восточный административный округ</td>\n",
       "      <td>район Богородское</td>\n",
       "      <td>Российская Федерация, город Москва, внутригоро...</td>\n",
       "      <td>20151</td>\n",
       "    </tr>\n",
       "    <tr>\n",
       "      <th>1</th>\n",
       "      <td>430496</td>\n",
       "      <td>2022</td>\n",
       "      <td>замена лифтового оборудования</td>\n",
       "      <td>1</td>\n",
       "      <td>1</td>\n",
       "      <td>30.09.2022</td>\n",
       "      <td>14.10.2022</td>\n",
       "      <td>30.09.2022</td>\n",
       "      <td>21.10.2022</td>\n",
       "      <td>Восточный административный округ</td>\n",
       "      <td>район Богородское</td>\n",
       "      <td>Российская Федерация, город Москва, внутригоро...</td>\n",
       "      <td>20151</td>\n",
       "    </tr>\n",
       "    <tr>\n",
       "      <th>2</th>\n",
       "      <td>348580</td>\n",
       "      <td>2022</td>\n",
       "      <td>ремонт внутридомовых инженерных систем водоотв...</td>\n",
       "      <td>1</td>\n",
       "      <td>нет лифта</td>\n",
       "      <td>21.02.2022</td>\n",
       "      <td>20.06.2022</td>\n",
       "      <td>01.02.2022</td>\n",
       "      <td>25.05.2022</td>\n",
       "      <td>Восточный административный округ</td>\n",
       "      <td>район Богородское</td>\n",
       "      <td>Российская Федерация, город Москва, внутригоро...</td>\n",
       "      <td>11466</td>\n",
       "    </tr>\n",
       "    <tr>\n",
       "      <th>3</th>\n",
       "      <td>348581</td>\n",
       "      <td>2022</td>\n",
       "      <td>ремонт внутридомовых инженерных систем теплосн...</td>\n",
       "      <td>1</td>\n",
       "      <td>нет лифта</td>\n",
       "      <td>21.04.2022</td>\n",
       "      <td>10.07.2022</td>\n",
       "      <td>07.05.2022</td>\n",
       "      <td>03.08.2022</td>\n",
       "      <td>Восточный административный округ</td>\n",
       "      <td>район Богородское</td>\n",
       "      <td>Российская Федерация, город Москва, внутригоро...</td>\n",
       "      <td>11466</td>\n",
       "    </tr>\n",
       "    <tr>\n",
       "      <th>4</th>\n",
       "      <td>348578</td>\n",
       "      <td>2022</td>\n",
       "      <td>ремонт внутридомовых инженерных систем холодно...</td>\n",
       "      <td>1</td>\n",
       "      <td>нет лифта</td>\n",
       "      <td>21.02.2022</td>\n",
       "      <td>20.06.2022</td>\n",
       "      <td>01.02.2022</td>\n",
       "      <td>27.06.2022</td>\n",
       "      <td>Восточный административный округ</td>\n",
       "      <td>район Богородское</td>\n",
       "      <td>Российская Федерация, город Москва, внутригоро...</td>\n",
       "      <td>11466</td>\n",
       "    </tr>\n",
       "  </tbody>\n",
       "</table>\n",
       "</div>"
      ],
      "text/plain": [
       "   global_id  PERIOD                                          WORK_NAME   \n",
       "0     351060    2022                      замена лифтового оборудования  \\\n",
       "1     430496    2022                      замена лифтового оборудования   \n",
       "2     348580    2022  ремонт внутридомовых инженерных систем водоотв...   \n",
       "3     348581    2022  ремонт внутридомовых инженерных систем теплосн...   \n",
       "4     348578    2022  ремонт внутридомовых инженерных систем холодно...   \n",
       "\n",
       "   NUM_ENTRANCE ElevatorNumber PLAN_DATE_START PLAN_DATE_END FACT_DATE_START   \n",
       "0             1              1      15.07.2022    28.08.2022      27.06.2022  \\\n",
       "1             1              1      30.09.2022    14.10.2022      30.09.2022   \n",
       "2             1      нет лифта      21.02.2022    20.06.2022      01.02.2022   \n",
       "3             1      нет лифта      21.04.2022    10.07.2022      07.05.2022   \n",
       "4             1      нет лифта      21.02.2022    20.06.2022      01.02.2022   \n",
       "\n",
       "  FACT_DATE_END                           AdmArea           District   \n",
       "0    14.10.2022  Восточный административный округ  район Богородское  \\\n",
       "1    21.10.2022  Восточный административный округ  район Богородское   \n",
       "2    25.05.2022  Восточный административный округ  район Богородское   \n",
       "3    03.08.2022  Восточный административный округ  район Богородское   \n",
       "4    27.06.2022  Восточный административный округ  район Богородское   \n",
       "\n",
       "                                             Address   UNOM  \n",
       "0  Российская Федерация, город Москва, внутригоро...  20151  \n",
       "1  Российская Федерация, город Москва, внутригоро...  20151  \n",
       "2  Российская Федерация, город Москва, внутригоро...  11466  \n",
       "3  Российская Федерация, город Москва, внутригоро...  11466  \n",
       "4  Российская Федерация, город Москва, внутригоро...  11466  "
      ]
     },
     "execution_count": 26,
     "metadata": {},
     "output_type": "execute_result"
    }
   ],
   "source": [
    "# вывод данных\n",
    "overhaul_df.head()"
   ]
  },
  {
   "cell_type": "code",
   "execution_count": 20,
   "metadata": {},
   "outputs": [
    {
     "data": {
      "text/plain": [
       "array(['замена лифтового оборудования',\n",
       "       'ремонт внутридомовых инженерных систем водоотведения (канализации) (выпуски и сборные трубопроводы)',\n",
       "       'ремонт внутридомовых инженерных систем теплоснабжения (разводящие магистрали)',\n",
       "       'ремонт внутридомовых инженерных систем холодного водоснабжения (разводящие магистрали)',\n",
       "       'ремонт внутридомовых инженерных систем горячего водоснабжения (разводящие магистрали)',\n",
       "       'ремонт подвальных помещений, относящихся к общему имуществу в многоквартирном доме',\n",
       "       'ремонт внутридомовых инженерных систем газоснабжения',\n",
       "       'ремонт подъездов, направленный на восстановление их надлежащего состояния и проводимый при выполнении иных работ по капитальному ремонту общего имущества в многоквартирном доме',\n",
       "       'ремонт фасадов', 'ремонт крыши',\n",
       "       'ремонт внутридомовых инженерных систем электроснабжения',\n",
       "       'ремонт мусоропровода',\n",
       "       'замена оконных блоков, расположенных в помещениях общего пользования',\n",
       "       'ремонт внутридомовых инженерных систем горячего водоснабжения (стояки)',\n",
       "       'ремонт пожарного водопровода',\n",
       "       'ремонт внутридомовых инженерных систем теплоснабжения (стояки)',\n",
       "       'ремонт внутридомовых инженерных систем холодного водоснабжения (стояки)',\n",
       "       'ремонт внутреннего водостока',\n",
       "       'ремонт внутридомовых инженерных систем водоотведения (канализации) (стояки)'],\n",
       "      dtype=object)"
      ]
     },
     "execution_count": 20,
     "metadata": {},
     "output_type": "execute_result"
    }
   ],
   "source": [
    "# уникальные виды работ\n",
    "overhaul_df[\"WORK_NAME\"].unique()"
   ]
  },
  {
   "cell_type": "code",
   "execution_count": 27,
   "metadata": {},
   "outputs": [],
   "source": [
    "# запись данных в файл\n",
    "overhaul_df.to_csv(\"../data/overhaul_df.csv\", index=False)"
   ]
  }
 ],
 "metadata": {
  "kernelspec": {
   "display_name": "venv",
   "language": "python",
   "name": "python3"
  },
  "language_info": {
   "codemirror_mode": {
    "name": "ipython",
    "version": 3
   },
   "file_extension": ".py",
   "mimetype": "text/x-python",
   "name": "python",
   "nbconvert_exporter": "python",
   "pygments_lexer": "ipython3",
   "version": "3.11.3"
  },
  "orig_nbformat": 4
 },
 "nbformat": 4,
 "nbformat_minor": 2
}
