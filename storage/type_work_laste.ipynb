{
 "cells": [
  {
   "cell_type": "code",
   "execution_count": 25,
   "metadata": {},
   "outputs": [],
   "source": [
    "# импорт необходимых библиотек\n",
    "import pandas as pd\n",
    "import os\n",
    "from docx import Document\n",
    "from pony.orm import *\n",
    "from models import db"
   ]
  },
  {
   "cell_type": "code",
   "execution_count": 26,
   "metadata": {},
   "outputs": [],
   "source": [
    "# путь к файлам\n",
    "PACH_DATA = \"../raw_data/\""
   ]
  },
  {
   "cell_type": "code",
   "execution_count": 27,
   "metadata": {},
   "outputs": [
    {
     "data": {
      "text/plain": [
       "['1_Многоквартирные дома с технико-экономическими характеристиками.xlsx',\n",
       " '2_Инциденты,_зарегистрированные_на_объектах_городского_хозяйства (2).xlsx',\n",
       " '2_Инциденты,_зарегистрированные_на_объектах_городского_хозяйства.xlsx',\n",
       " '3_Работы по капитальному ремонту, проведенные в многоквартирных домах.xlsx',\n",
       " '4_Виды работ по капитальному ремонту многоквартирных домов.xlsx',\n",
       " '4_Виды работ по содержанию и ремонту общего имущества многоквартирных домов.xlsx',\n",
       " '4_Виды_работ_по_капитальному_ремонту_многоквартирных_домов_с_фактом (3).xlsx',\n",
       " '5_Типы событий, регистрируемых по типу объекта многоквартирный дом.xlsx',\n",
       " 'Объекты_модели_Группы_видов_работ_по_содержанию_и_ремонту_общего.xlsx',\n",
       " 'Описание примеров данных.docx']"
      ]
     },
     "execution_count": 27,
     "metadata": {},
     "output_type": "execute_result"
    }
   ],
   "source": [
    "# вывод файлов директории \"data\"\n",
    "data_list = os.listdir(PACH_DATA)\n",
    "data_list"
   ]
  },
  {
   "attachments": {},
   "cell_type": "markdown",
   "metadata": {},
   "source": [
    "### Описание примеров данных"
   ]
  },
  {
   "cell_type": "code",
   "execution_count": 28,
   "metadata": {},
   "outputs": [],
   "source": [
    "# загрузка данных файла 'Описание примеров данных.docx'\n",
    "document = Document(PACH_DATA + data_list[-1])"
   ]
  },
  {
   "cell_type": "code",
   "execution_count": 29,
   "metadata": {},
   "outputs": [],
   "source": [
    "# парсинг таблиц данных файла 'Описание примеров данных.docx'\n",
    "df_tables = []\n",
    "for table in document.tables:\n",
    "    df = [['' for i in range(len(table.columns))] for j in range(len(table.rows))]\n",
    "    for i, row in enumerate(table.rows):\n",
    "        for j, cell in enumerate(row.cells):\n",
    "            if cell.text:\n",
    "                df[i][j] = cell.text\n",
    "    df_tables.append(pd.DataFrame(df[1:], columns=df[0]))"
   ]
  },
  {
   "cell_type": "code",
   "execution_count": 30,
   "metadata": {},
   "outputs": [
    {
     "data": {
      "text/plain": [
       "16"
      ]
     },
     "execution_count": 30,
     "metadata": {},
     "output_type": "execute_result"
    }
   ],
   "source": [
    "# количество обнаруженных таблиц\n",
    "len(df_tables)"
   ]
  },
  {
   "attachments": {},
   "cell_type": "markdown",
   "metadata": {},
   "source": [
    "### Виды работ по капитальному ремонту многоквартирных домов"
   ]
  },
  {
   "cell_type": "code",
   "execution_count": 31,
   "metadata": {},
   "outputs": [
    {
     "data": {
      "text/plain": [
       "'4_Виды_работ_по_капитальному_ремонту_многоквартирных_домов_с_фактом (3).xlsx'"
      ]
     },
     "execution_count": 31,
     "metadata": {},
     "output_type": "execute_result"
    }
   ],
   "source": [
    "# путь к данным\n",
    "data_list[6]"
   ]
  },
  {
   "cell_type": "code",
   "execution_count": 32,
   "metadata": {},
   "outputs": [
    {
     "data": {
      "text/html": [
       "<div>\n",
       "<style scoped>\n",
       "    .dataframe tbody tr th:only-of-type {\n",
       "        vertical-align: middle;\n",
       "    }\n",
       "\n",
       "    .dataframe tbody tr th {\n",
       "        vertical-align: top;\n",
       "    }\n",
       "\n",
       "    .dataframe thead th {\n",
       "        text-align: right;\n",
       "    }\n",
       "</style>\n",
       "<table border=\"1\" class=\"dataframe\">\n",
       "  <thead>\n",
       "    <tr style=\"text-align: right;\">\n",
       "      <th></th>\n",
       "      <th>Имя колонки</th>\n",
       "      <th>Комментарий</th>\n",
       "    </tr>\n",
       "  </thead>\n",
       "  <tbody>\n",
       "    <tr>\n",
       "      <th>0</th>\n",
       "      <td>A</td>\n",
       "      <td>№ п/п</td>\n",
       "    </tr>\n",
       "    <tr>\n",
       "      <th>1</th>\n",
       "      <td>B</td>\n",
       "      <td>Код</td>\n",
       "    </tr>\n",
       "    <tr>\n",
       "      <th>2</th>\n",
       "      <td>C</td>\n",
       "      <td>Наименование</td>\n",
       "    </tr>\n",
       "    <tr>\n",
       "      <th>3</th>\n",
       "      <td>D</td>\n",
       "      <td>Наименование объекта общего имущества</td>\n",
       "    </tr>\n",
       "    <tr>\n",
       "      <th>4</th>\n",
       "      <td>E</td>\n",
       "      <td>Тип работ</td>\n",
       "    </tr>\n",
       "    <tr>\n",
       "      <th>5</th>\n",
       "      <td>F</td>\n",
       "      <td>Группа работ</td>\n",
       "    </tr>\n",
       "    <tr>\n",
       "      <th>6</th>\n",
       "      <td>G</td>\n",
       "      <td>Сокращенное наименование работы</td>\n",
       "    </tr>\n",
       "  </tbody>\n",
       "</table>\n",
       "</div>"
      ],
      "text/plain": [
       "  Имя колонки                            Комментарий\n",
       "0           A                                  № п/п\n",
       "1           B                                    Код\n",
       "2           C                           Наименование\n",
       "3           D  Наименование объекта общего имущества\n",
       "4           E                              Тип работ\n",
       "5           F                           Группа работ\n",
       "6           G        Сокращенное наименование работы"
      ]
     },
     "execution_count": 32,
     "metadata": {},
     "output_type": "execute_result"
    }
   ],
   "source": [
    "# описание данных\n",
    "df_tables[13]"
   ]
  },
  {
   "cell_type": "code",
   "execution_count": 33,
   "metadata": {},
   "outputs": [
    {
     "name": "stdout",
     "output_type": "stream",
     "text": [
      "['Лист1']\n"
     ]
    }
   ],
   "source": [
    "# вывод наименование листов в файле \"4_Виды работ по капитальному ремонту многоквартирных домов.xlsx\"\n",
    "xlsx_file = pd.ExcelFile(PACH_DATA + data_list[6])\n",
    "sheet_names = xlsx_file.sheet_names\n",
    "print(sheet_names)"
   ]
  },
  {
   "cell_type": "code",
   "execution_count": 34,
   "metadata": {},
   "outputs": [
    {
     "data": {
      "text/html": [
       "<div>\n",
       "<style scoped>\n",
       "    .dataframe tbody tr th:only-of-type {\n",
       "        vertical-align: middle;\n",
       "    }\n",
       "\n",
       "    .dataframe tbody tr th {\n",
       "        vertical-align: top;\n",
       "    }\n",
       "\n",
       "    .dataframe thead th {\n",
       "        text-align: right;\n",
       "    }\n",
       "</style>\n",
       "<table border=\"1\" class=\"dataframe\">\n",
       "  <thead>\n",
       "    <tr style=\"text-align: right;\">\n",
       "      <th></th>\n",
       "      <th>Код</th>\n",
       "      <th>Наименование</th>\n",
       "      <th>Наименование объекта общего имущества</th>\n",
       "      <th>Тип работ</th>\n",
       "      <th>Группа работ</th>\n",
       "      <th>Сокращенное наименование работы</th>\n",
       "      <th>Виды работ в 2022 году</th>\n",
       "    </tr>\n",
       "    <tr>\n",
       "      <th>№\n",
       "п/п</th>\n",
       "      <th></th>\n",
       "      <th></th>\n",
       "      <th></th>\n",
       "      <th></th>\n",
       "      <th></th>\n",
       "      <th></th>\n",
       "      <th></th>\n",
       "    </tr>\n",
       "  </thead>\n",
       "  <tbody>\n",
       "    <tr>\n",
       "      <th>1</th>\n",
       "      <td>105</td>\n",
       "      <td>строительный контроль</td>\n",
       "      <td>Строительный контроль</td>\n",
       "      <td>Услуга</td>\n",
       "      <td>Стройконтроль</td>\n",
       "      <td>СК</td>\n",
       "      <td>NaN</td>\n",
       "    </tr>\n",
       "    <tr>\n",
       "      <th>2</th>\n",
       "      <td>26</td>\n",
       "      <td>ремонт подъездов, направленный на восстановлен...</td>\n",
       "      <td>Подъезд</td>\n",
       "      <td>Работа</td>\n",
       "      <td>СМР</td>\n",
       "      <td>Подъезд</td>\n",
       "      <td>ремонт подъездов, направленный на восстановлен...</td>\n",
       "    </tr>\n",
       "    <tr>\n",
       "      <th>3</th>\n",
       "      <td>9</td>\n",
       "      <td>ремонт фасада (замена оконных блоков, располож...</td>\n",
       "      <td>Фасад(оконные блоки)</td>\n",
       "      <td>Работа</td>\n",
       "      <td>СМР</td>\n",
       "      <td>Окна</td>\n",
       "      <td>замена оконных блоков, расположенных в помещен...</td>\n",
       "    </tr>\n",
       "    <tr>\n",
       "      <th>4</th>\n",
       "      <td>104</td>\n",
       "      <td>проведение экспертизы проектной документации п...</td>\n",
       "      <td>проведение экспертизы</td>\n",
       "      <td>Услуга</td>\n",
       "      <td>СМР</td>\n",
       "      <td>проведение экспертизы</td>\n",
       "      <td>NaN</td>\n",
       "    </tr>\n",
       "    <tr>\n",
       "      <th>5</th>\n",
       "      <td>20</td>\n",
       "      <td>разработка проектной документации</td>\n",
       "      <td>разработка проектной документации</td>\n",
       "      <td>Услуга</td>\n",
       "      <td>СМР</td>\n",
       "      <td>ПСД</td>\n",
       "      <td>NaN</td>\n",
       "    </tr>\n",
       "  </tbody>\n",
       "</table>\n",
       "</div>"
      ],
      "text/plain": [
       "        Код                                       Наименование   \n",
       "№\\nп/п                                                           \n",
       "1       105                              строительный контроль  \\\n",
       "2        26  ремонт подъездов, направленный на восстановлен...   \n",
       "3         9  ремонт фасада (замена оконных блоков, располож...   \n",
       "4       104  проведение экспертизы проектной документации п...   \n",
       "5        20                  разработка проектной документации   \n",
       "\n",
       "       Наименование объекта общего имущества Тип работ   Группа работ   \n",
       "№\\nп/п                                                                  \n",
       "1                      Строительный контроль    Услуга  Стройконтроль  \\\n",
       "2                                    Подъезд    Работа            СМР   \n",
       "3                       Фасад(оконные блоки)    Работа            СМР   \n",
       "4                      проведение экспертизы    Услуга            СМР   \n",
       "5          разработка проектной документации    Услуга            СМР   \n",
       "\n",
       "       Сокращенное наименование работы   \n",
       "№\\nп/п                                   \n",
       "1                                   СК  \\\n",
       "2                              Подъезд   \n",
       "3                                 Окна   \n",
       "4                проведение экспертизы   \n",
       "5                                  ПСД   \n",
       "\n",
       "                                   Виды работ в 2022 году  \n",
       "№\\nп/п                                                     \n",
       "1                                                     NaN  \n",
       "2       ремонт подъездов, направленный на восстановлен...  \n",
       "3       замена оконных блоков, расположенных в помещен...  \n",
       "4                                                     NaN  \n",
       "5                                                     NaN  "
      ]
     },
     "execution_count": 34,
     "metadata": {},
     "output_type": "execute_result"
    }
   ],
   "source": [
    "# загрузка данных\n",
    "type_work_laste_df = pd.read_excel(PACH_DATA + data_list[6], sheet_name=\"Лист1\", header=1, index_col=0)\n",
    "type_work_laste_df.head()"
   ]
  },
  {
   "cell_type": "code",
   "execution_count": 35,
   "metadata": {},
   "outputs": [
    {
     "data": {
      "text/plain": [
       "Код                                       int64\n",
       "Наименование                             object\n",
       "Наименование объекта общего имущества    object\n",
       "Тип работ                                object\n",
       "Группа работ                             object\n",
       "Сокращенное наименование работы          object\n",
       "Виды работ в 2022 году                   object\n",
       "dtype: object"
      ]
     },
     "execution_count": 35,
     "metadata": {},
     "output_type": "execute_result"
    }
   ],
   "source": [
    "# типы данных\n",
    "type_work_laste_df.dtypes"
   ]
  },
  {
   "cell_type": "code",
   "execution_count": 36,
   "metadata": {},
   "outputs": [
    {
     "data": {
      "text/plain": [
       "Виды работ в 2022 году                   34.48 %\n",
       "Код                                        0.0 %\n",
       "Наименование                               0.0 %\n",
       "Наименование объекта общего имущества      0.0 %\n",
       "Тип работ                                  0.0 %\n",
       "Группа работ                               0.0 %\n",
       "Сокращенное наименование работы            0.0 %\n",
       "dtype: object"
      ]
     },
     "execution_count": 36,
     "metadata": {},
     "output_type": "execute_result"
    }
   ],
   "source": [
    "# процентное соотношение пропусков в данных\n",
    "(type_work_laste_df.isna().sum() / type_work_laste_df.shape[0] * 100) \\\n",
    "    .sort_values(ascending=False).round(2)[:20].astype('str') + ' %'"
   ]
  },
  {
   "cell_type": "code",
   "execution_count": 37,
   "metadata": {},
   "outputs": [],
   "source": [
    "# заполнение пропусков по смыслу\n",
    "type_work_laste_df = type_work_laste_df.fillna(\"работы не проводились\")"
   ]
  },
  {
   "cell_type": "code",
   "execution_count": 38,
   "metadata": {},
   "outputs": [
    {
     "data": {
      "text/plain": [
       "Index(['Код', 'Наименование', 'Наименование объекта общего имущества',\n",
       "       'Тип работ', 'Группа работ', 'Сокращенное наименование работы',\n",
       "       'Виды работ в 2022 году'],\n",
       "      dtype='object')"
      ]
     },
     "execution_count": 38,
     "metadata": {},
     "output_type": "execute_result"
    }
   ],
   "source": [
    "# признаки данных\n",
    "type_work_laste_df.columns"
   ]
  },
  {
   "cell_type": "code",
   "execution_count": 39,
   "metadata": {},
   "outputs": [
    {
     "data": {
      "text/plain": [
       "Код                                      23\n",
       "Наименование                             29\n",
       "Наименование объекта общего имущества    29\n",
       "Тип работ                                 2\n",
       "Группа работ                              5\n",
       "Сокращенное наименование работы          29\n",
       "Виды работ в 2022 году                   20\n",
       "dtype: int64"
      ]
     },
     "execution_count": 39,
     "metadata": {},
     "output_type": "execute_result"
    }
   ],
   "source": [
    "# количество уникальных значений\n",
    "type_work_laste_df.nunique()"
   ]
  },
  {
   "cell_type": "code",
   "execution_count": 40,
   "metadata": {},
   "outputs": [
    {
     "data": {
      "text/plain": [
       "(29, 7)"
      ]
     },
     "execution_count": 40,
     "metadata": {},
     "output_type": "execute_result"
    }
   ],
   "source": [
    "# размерность данных\n",
    "type_work_laste_df.shape"
   ]
  },
  {
   "attachments": {},
   "cell_type": "markdown",
   "metadata": {},
   "source": [
    "Одному и томуже коду соответствует несколько наименований"
   ]
  },
  {
   "cell_type": "code",
   "execution_count": 41,
   "metadata": {},
   "outputs": [],
   "source": [
    "# запись данных в файл\n",
    "type_work_laste_df.to_csv(\"../data/type_work_laste_df.csv\", index=False)"
   ]
  },
  {
   "cell_type": "code",
   "execution_count": 42,
   "metadata": {},
   "outputs": [
    {
     "name": "stdout",
     "output_type": "stream",
     "text": [
      "id|code_id|type_name|object_name|type_work|group_work|abbreviated|work_2022\n",
      "--+-------+---------+-----------+---------+----------+-----------+---------\n"
     ]
    }
   ],
   "source": [
    "# вывод таблицы 'types_work_lastes'\n",
    "db.Types_Work_Laste.select().show()"
   ]
  },
  {
   "cell_type": "code",
   "execution_count": 43,
   "metadata": {},
   "outputs": [],
   "source": [
    "@db_session\n",
    "def add_type_work_laste(code_id, type_name, object_name, type_work,\n",
    "                        group_work, abbreviated, work_2022):\n",
    "\n",
    "    \"\"\" функуия записи вида работ по капитальному ремонту \n",
    "    многоквартирных домов в таблицу 'types_work_lastes' \"\"\"\n",
    "    \n",
    "    db.Types_Work_Laste(code_id=code_id, type_name=type_name,\n",
    "                        object_name=object_name, type_work=type_work,\n",
    "                        group_work=group_work, abbreviated=abbreviated,\n",
    "                        work_2022=work_2022)\n",
    "    # commit() will be done automatically\n",
    "    # database session cache will be cleared automatically\n",
    "    # database connection will be returned to the pool"
   ]
  },
  {
   "cell_type": "code",
   "execution_count": 44,
   "metadata": {},
   "outputs": [
    {
     "data": {
      "text/plain": [
       "array([[105, 'строительный контроль', 'Строительный контроль', 'Услуга',\n",
       "        'Стройконтроль', 'СК', 'работы не проводились'],\n",
       "       [26,\n",
       "        'ремонт подъездов, направленный на восстановление их надлежащего состояния и проводимый при выполнении иных работ',\n",
       "        'Подъезд', 'Работа', 'СМР', 'Подъезд',\n",
       "        'ремонт подъездов, направленный на восстановление их надлежащего состояния и проводимый при выполнении иных работ по капитальному ремонту общего имущества в многоквартирном доме']],\n",
       "      dtype=object)"
      ]
     },
     "execution_count": 44,
     "metadata": {},
     "output_type": "execute_result"
    }
   ],
   "source": [
    "# данные для записи в таблицу\n",
    "type_work_laste = type_work_laste_df.values\n",
    "type_work_laste[:2]"
   ]
  },
  {
   "cell_type": "code",
   "execution_count": 45,
   "metadata": {},
   "outputs": [
    {
     "ename": "TransactionIntegrityError",
     "evalue": "Newly auto-generated id value 1 was already used in transaction cache for another object",
     "output_type": "error",
     "traceback": [
      "\u001b[1;31m---------------------------------------------------------------------------\u001b[0m",
      "\u001b[1;31mTransactionIntegrityError\u001b[0m                 Traceback (most recent call last)",
      "Cell \u001b[1;32mIn[45], line 4\u001b[0m\n\u001b[0;32m      1\u001b[0m \u001b[39m# запись данных в базу данных\u001b[39;00m\n\u001b[0;32m      2\u001b[0m \u001b[39mfor\u001b[39;00m code_id, type_name, object_name, type_work, \\\n\u001b[0;32m      3\u001b[0m     group_work, abbreviated, work_2022 \u001b[39min\u001b[39;00m type_work_laste:\n\u001b[1;32m----> 4\u001b[0m     add_type_work_laste(code_id, type_name, object_name, type_work,\n\u001b[0;32m      5\u001b[0m                         group_work, abbreviated, work_2022)\n",
      "File \u001b[1;32m<string>:2\u001b[0m, in \u001b[0;36madd_type_work_laste\u001b[1;34m(code_id, type_name, object_name, type_work, group_work, abbreviated, work_2022)\u001b[0m\n",
      "File \u001b[1;32mc:\\Users\\rus_k\\incident\\venv\\Lib\\site-packages\\pony\\orm\\core.py:538\u001b[0m, in \u001b[0;36mDBSessionContextManager._wrap_function.<locals>.new_func\u001b[1;34m(func, *args, **kwargs)\u001b[0m\n\u001b[0;32m    536\u001b[0m         \u001b[39mfinally\u001b[39;00m:\n\u001b[0;32m    537\u001b[0m             db_session\u001b[39m.\u001b[39m\u001b[39m__exit__\u001b[39m(exc_type, exc, tb)\n\u001b[1;32m--> 538\u001b[0m     reraise(exc_type, exc, tb)\n\u001b[0;32m    539\u001b[0m \u001b[39mfinally\u001b[39;00m:\n\u001b[0;32m    540\u001b[0m     \u001b[39mdel\u001b[39;00m exc, tb\n",
      "File \u001b[1;32mc:\\Users\\rus_k\\incident\\venv\\Lib\\site-packages\\pony\\utils\\utils.py:88\u001b[0m, in \u001b[0;36mreraise\u001b[1;34m(***failed resolving arguments***)\u001b[0m\n\u001b[0;32m     87\u001b[0m \u001b[39mdef\u001b[39;00m \u001b[39mreraise\u001b[39m(exc_type, exc, tb):\n\u001b[1;32m---> 88\u001b[0m     \u001b[39mtry\u001b[39;00m: \u001b[39mraise\u001b[39;00m exc\u001b[39m.\u001b[39mwith_traceback(tb)\n\u001b[0;32m     89\u001b[0m     \u001b[39mfinally\u001b[39;00m: \u001b[39mdel\u001b[39;00m exc, tb\n",
      "File \u001b[1;32mc:\\Users\\rus_k\\incident\\venv\\Lib\\site-packages\\pony\\orm\\core.py:520\u001b[0m, in \u001b[0;36mDBSessionContextManager._wrap_function.<locals>.new_func\u001b[1;34m(func, *args, **kwargs)\u001b[0m\n\u001b[0;32m    518\u001b[0m \u001b[39mtry\u001b[39;00m:\n\u001b[0;32m    519\u001b[0m     result \u001b[39m=\u001b[39m func(\u001b[39m*\u001b[39margs, \u001b[39m*\u001b[39m\u001b[39m*\u001b[39mkwargs)\n\u001b[1;32m--> 520\u001b[0m     commit()\n\u001b[0;32m    521\u001b[0m     \u001b[39mreturn\u001b[39;00m result\n\u001b[0;32m    522\u001b[0m \u001b[39mexcept\u001b[39;00m:\n",
      "File \u001b[1;32m<string>:2\u001b[0m, in \u001b[0;36mcommit\u001b[1;34m()\u001b[0m\n",
      "File \u001b[1;32mc:\\Users\\rus_k\\incident\\venv\\Lib\\site-packages\\pony\\utils\\utils.py:75\u001b[0m, in \u001b[0;36mcut_traceback\u001b[1;34m(func, *args, **kwargs)\u001b[0m\n\u001b[0;32m     73\u001b[0m     module_name \u001b[39m=\u001b[39m tb\u001b[39m.\u001b[39mtb_frame\u001b[39m.\u001b[39mf_globals\u001b[39m.\u001b[39mget(\u001b[39m'\u001b[39m\u001b[39m__name__\u001b[39m\u001b[39m'\u001b[39m) \u001b[39mor\u001b[39;00m \u001b[39m'\u001b[39m\u001b[39m'\u001b[39m\n\u001b[0;32m     74\u001b[0m     \u001b[39mif\u001b[39;00m module_name\u001b[39m.\u001b[39mstartswith(\u001b[39m'\u001b[39m\u001b[39mpony.utils\u001b[39m\u001b[39m'\u001b[39m) \u001b[39mand\u001b[39;00m tb\u001b[39m.\u001b[39mtb_frame\u001b[39m.\u001b[39mf_code\u001b[39m.\u001b[39mco_name \u001b[39m==\u001b[39m \u001b[39m'\u001b[39m\u001b[39mthrow\u001b[39m\u001b[39m'\u001b[39m:\n\u001b[1;32m---> 75\u001b[0m         reraise(exc_type, exc, last_pony_tb)\n\u001b[0;32m     76\u001b[0m     reraise(exc_type, exc, full_tb)\n\u001b[0;32m     77\u001b[0m \u001b[39mfinally\u001b[39;00m:\n",
      "File \u001b[1;32mc:\\Users\\rus_k\\incident\\venv\\Lib\\site-packages\\pony\\utils\\utils.py:88\u001b[0m, in \u001b[0;36mreraise\u001b[1;34m(***failed resolving arguments***)\u001b[0m\n\u001b[0;32m     87\u001b[0m \u001b[39mdef\u001b[39;00m \u001b[39mreraise\u001b[39m(exc_type, exc, tb):\n\u001b[1;32m---> 88\u001b[0m     \u001b[39mtry\u001b[39;00m: \u001b[39mraise\u001b[39;00m exc\u001b[39m.\u001b[39mwith_traceback(tb)\n\u001b[0;32m     89\u001b[0m     \u001b[39mfinally\u001b[39;00m: \u001b[39mdel\u001b[39;00m exc, tb\n",
      "File \u001b[1;32mc:\\Users\\rus_k\\incident\\venv\\Lib\\site-packages\\pony\\orm\\core.py:5288\u001b[0m, in \u001b[0;36mEntity._save_created_\u001b[1;34m(obj)\u001b[0m\n\u001b[0;32m   5286\u001b[0m cache_index \u001b[39m=\u001b[39m obj\u001b[39m.\u001b[39m_session_cache_\u001b[39m.\u001b[39mindexes[pk_attrs]\n\u001b[0;32m   5287\u001b[0m obj2 \u001b[39m=\u001b[39m cache_index\u001b[39m.\u001b[39msetdefault(new_id, obj)\n\u001b[1;32m-> 5288\u001b[0m \u001b[39mif\u001b[39;00m obj2 \u001b[39mis\u001b[39;00m \u001b[39mnot\u001b[39;00m obj: throw(TransactionIntegrityError,\n\u001b[0;32m   5289\u001b[0m     \u001b[39m'\u001b[39;49m\u001b[39mNewly auto-generated id value \u001b[39;49m\u001b[39m%s\u001b[39;49;00m\u001b[39m was already used in transaction cache for another object\u001b[39;49m\u001b[39m'\u001b[39;49m \u001b[39m%\u001b[39;49m new_id)\n\u001b[0;32m   5290\u001b[0m obj\u001b[39m.\u001b[39m_pkval_ \u001b[39m=\u001b[39m obj\u001b[39m.\u001b[39m_vals_[pk_attrs[\u001b[39m0\u001b[39m]] \u001b[39m=\u001b[39m new_id\n\u001b[0;32m   5291\u001b[0m obj\u001b[39m.\u001b[39m_newid_ \u001b[39m=\u001b[39m \u001b[39mNone\u001b[39;00m\n",
      "File \u001b[1;32mc:\\Users\\rus_k\\incident\\venv\\Lib\\site-packages\\pony\\utils\\utils.py:101\u001b[0m, in \u001b[0;36mthrow\u001b[1;34m(exc_type, *args, **kwargs)\u001b[0m\n\u001b[0;32m     99\u001b[0m         \u001b[39mraise\u001b[39;00m exc\n\u001b[0;32m    100\u001b[0m     \u001b[39melse\u001b[39;00m:\n\u001b[1;32m--> 101\u001b[0m         \u001b[39mraise\u001b[39;00m exc  \u001b[39m# Set \"pony.options.CUT_TRACEBACK = False\" to see full traceback\u001b[39;00m\n\u001b[0;32m    102\u001b[0m \u001b[39mfinally\u001b[39;00m: \u001b[39mdel\u001b[39;00m exc\n",
      "\u001b[1;31mTransactionIntegrityError\u001b[0m: Newly auto-generated id value 1 was already used in transaction cache for another object"
     ]
    }
   ],
   "source": [
    "# запись данных в базу данных\n",
    "for code_id, type_name, object_name, type_work, \\\n",
    "    group_work, abbreviated, work_2022 in type_work_laste:\n",
    "    add_type_work_laste(code_id, type_name, object_name, type_work,\n",
    "                        group_work, abbreviated, work_2022)"
   ]
  },
  {
   "cell_type": "code",
   "execution_count": null,
   "metadata": {},
   "outputs": [
    {
     "name": "stdout",
     "output_type": "stream",
     "text": [
      "id|code_id|type_name  |object_name|type_work|group_work |abbreviated|work_2022  \n",
      "--+-------+-----------+-----------+---------+-----------+-----------+-----------\n",
      "1 |105    |строител...|Строител...|Услуга   |Стройкон...|СК         |работы н...\n",
      "2 |26     |ремонт п...|Подъезд    |Работа   |СМР        |Подъезд    |ремонт п...\n",
      "3 |9      |ремонт ф...|Фасад(ок...|Работа   |СМР        |Окна       |замена о...\n",
      "4 |104    |проведен...|проведен...|Услуга   |СМР        |проведен...|работы н...\n",
      "5 |20     |разработ...|разработ...|Услуга   |СМР        |ПСД        |работы н...\n",
      "6 |3      |ремонт в...|Внутридо...|Работа   |СМР        |ЦО-М       |ремонт в...\n",
      "7 |5      |ремонт в...|Внутридо...|Работа   |СМР        |КАН-М      |ремонт в...\n",
      "8 |4      |ремонт в...|Внутридо...|Работа   |СМР        |ГВС-М      |ремонт в...\n",
      "9 |4      |ремонт в...|Внутридо...|Работа   |СМР        |ХВС-М      |ремонт в...\n",
      "10|53     |ремонт и...|Мусоропр...|Работа   |СМР        |Мусоропр...|ремонт м...\n"
     ]
    }
   ],
   "source": [
    "# проверка записи данных\n",
    "db.Types_Work_Laste.select()[:10].show()"
   ]
  },
  {
   "cell_type": "code",
   "execution_count": null,
   "metadata": {},
   "outputs": [
    {
     "data": {
      "text/plain": [
       "(29, 29)"
      ]
     },
     "execution_count": 24,
     "metadata": {},
     "output_type": "execute_result"
    }
   ],
   "source": [
    "# проверка записи данных\n",
    "db.select(\"select count(*) from types_work_lastes\")[0], len(type_work_laste)"
   ]
  },
  {
   "attachments": {},
   "cell_type": "markdown",
   "metadata": {},
   "source": [
    "Данные записаны **успешно**"
   ]
  }
 ],
 "metadata": {
  "kernelspec": {
   "display_name": "venv",
   "language": "python",
   "name": "python3"
  },
  "language_info": {
   "codemirror_mode": {
    "name": "ipython",
    "version": 3
   },
   "file_extension": ".py",
   "mimetype": "text/x-python",
   "name": "python",
   "nbconvert_exporter": "python",
   "pygments_lexer": "ipython3",
   "version": "3.11.3"
  },
  "orig_nbformat": 4
 },
 "nbformat": 4,
 "nbformat_minor": 2
}
