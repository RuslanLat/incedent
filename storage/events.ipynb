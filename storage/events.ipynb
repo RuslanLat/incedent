{
 "cells": [
  {
   "cell_type": "code",
   "execution_count": 1,
   "metadata": {},
   "outputs": [],
   "source": [
    "# импорт необходимых библиотек\n",
    "import pandas as pd\n",
    "import os\n",
    "from docx import Document"
   ]
  },
  {
   "cell_type": "code",
   "execution_count": 2,
   "metadata": {},
   "outputs": [],
   "source": [
    "# путь к файлам\n",
    "PACH_DATA = \"../raw_data/\""
   ]
  },
  {
   "cell_type": "code",
   "execution_count": 3,
   "metadata": {},
   "outputs": [
    {
     "data": {
      "text/plain": [
       "['1_Многоквартирные дома с технико-экономическими характеристиками.xlsx',\n",
       " '2_Инциденты,_зарегистрированные_на_объектах_городского_хозяйства (2).xlsx',\n",
       " '2_Инциденты,_зарегистрированные_на_объектах_городского_хозяйства.xlsx',\n",
       " '3_Работы по капитальному ремонту, проведенные в многоквартирных домах.xlsx',\n",
       " '4_Виды работ по капитальному ремонту многоквартирных домов.xlsx',\n",
       " '4_Виды работ по содержанию и ремонту общего имущества многоквартирных домов.xlsx',\n",
       " '4_Виды_работ_по_капитальному_ремонту_многоквартирных_домов_с_фактом (3).xlsx',\n",
       " '5_Типы событий, регистрируемых по типу объекта многоквартирный дом.xlsx',\n",
       " 'Объекты_модели_Группы_видов_работ_по_содержанию_и_ремонту_общего.xlsx',\n",
       " 'Описание примеров данных.docx']"
      ]
     },
     "execution_count": 3,
     "metadata": {},
     "output_type": "execute_result"
    }
   ],
   "source": [
    "# вывод файлов директории \"data\"\n",
    "data_list = os.listdir(PACH_DATA)\n",
    "data_list"
   ]
  },
  {
   "attachments": {},
   "cell_type": "markdown",
   "metadata": {},
   "source": [
    "### Описание примеров данных"
   ]
  },
  {
   "cell_type": "code",
   "execution_count": 4,
   "metadata": {},
   "outputs": [],
   "source": [
    "# загрузка данных файла 'Описание примеров данных.docx'\n",
    "document = Document(PACH_DATA + data_list[-1])"
   ]
  },
  {
   "cell_type": "code",
   "execution_count": 5,
   "metadata": {},
   "outputs": [],
   "source": [
    "# парсинг таблиц данных файла 'Описание примеров данных.docx'\n",
    "df_tables = []\n",
    "for table in document.tables:\n",
    "    df = [['' for i in range(len(table.columns))] for j in range(len(table.rows))]\n",
    "    for i, row in enumerate(table.rows):\n",
    "        for j, cell in enumerate(row.cells):\n",
    "            if cell.text:\n",
    "                df[i][j] = cell.text\n",
    "    df_tables.append(pd.DataFrame(df[1:], columns=df[0]))"
   ]
  },
  {
   "cell_type": "code",
   "execution_count": 6,
   "metadata": {},
   "outputs": [
    {
     "data": {
      "text/plain": [
       "16"
      ]
     },
     "execution_count": 6,
     "metadata": {},
     "output_type": "execute_result"
    }
   ],
   "source": [
    "# количество обнаруженных таблиц\n",
    "len(df_tables)"
   ]
  },
  {
   "attachments": {},
   "cell_type": "markdown",
   "metadata": {},
   "source": [
    "### Типы событий, регистрируемых по типу объекта многоквартирный дом"
   ]
  },
  {
   "cell_type": "code",
   "execution_count": 7,
   "metadata": {},
   "outputs": [
    {
     "data": {
      "text/plain": [
       "'5_Типы событий, регистрируемых по типу объекта многоквартирный дом.xlsx'"
      ]
     },
     "execution_count": 7,
     "metadata": {},
     "output_type": "execute_result"
    }
   ],
   "source": [
    "# путь к данным\n",
    "data_list[7]"
   ]
  },
  {
   "cell_type": "code",
   "execution_count": 8,
   "metadata": {},
   "outputs": [
    {
     "data": {
      "text/html": [
       "<div>\n",
       "<style scoped>\n",
       "    .dataframe tbody tr th:only-of-type {\n",
       "        vertical-align: middle;\n",
       "    }\n",
       "\n",
       "    .dataframe tbody tr th {\n",
       "        vertical-align: top;\n",
       "    }\n",
       "\n",
       "    .dataframe thead th {\n",
       "        text-align: right;\n",
       "    }\n",
       "</style>\n",
       "<table border=\"1\" class=\"dataframe\">\n",
       "  <thead>\n",
       "    <tr style=\"text-align: right;\">\n",
       "      <th></th>\n",
       "      <th>Имя колонки</th>\n",
       "      <th>Комментарий</th>\n",
       "    </tr>\n",
       "  </thead>\n",
       "  <tbody>\n",
       "    <tr>\n",
       "      <th>0</th>\n",
       "      <td>id</td>\n",
       "      <td>Идентификатор</td>\n",
       "    </tr>\n",
       "    <tr>\n",
       "      <th>1</th>\n",
       "      <td>name</td>\n",
       "      <td>Наименование типа события</td>\n",
       "    </tr>\n",
       "    <tr>\n",
       "      <th>2</th>\n",
       "      <td>system</td>\n",
       "      <td>Информационная система – источник события</td>\n",
       "    </tr>\n",
       "  </tbody>\n",
       "</table>\n",
       "</div>"
      ],
      "text/plain": [
       "  Имя колонки                                Комментарий\n",
       "0          id                              Идентификатор\n",
       "1        name                  Наименование типа события\n",
       "2      system  Информационная система – источник события"
      ]
     },
     "execution_count": 8,
     "metadata": {},
     "output_type": "execute_result"
    }
   ],
   "source": [
    "# описание данных\n",
    "df_tables[15]"
   ]
  },
  {
   "cell_type": "code",
   "execution_count": 9,
   "metadata": {},
   "outputs": [
    {
     "name": "stdout",
     "output_type": "stream",
     "text": [
      "['Лист1']\n"
     ]
    }
   ],
   "source": [
    "# вывод наименование листов в файле \"5_Типы событий, регистрируемых по типу объекта многоквартирный дом.xlsx\"\n",
    "xlsx_file = pd.ExcelFile(PACH_DATA + data_list[7])\n",
    "sheet_names = xlsx_file.sheet_names\n",
    "print(sheet_names)"
   ]
  },
  {
   "cell_type": "code",
   "execution_count": 10,
   "metadata": {},
   "outputs": [
    {
     "data": {
      "text/html": [
       "<div>\n",
       "<style scoped>\n",
       "    .dataframe tbody tr th:only-of-type {\n",
       "        vertical-align: middle;\n",
       "    }\n",
       "\n",
       "    .dataframe tbody tr th {\n",
       "        vertical-align: top;\n",
       "    }\n",
       "\n",
       "    .dataframe thead th {\n",
       "        text-align: right;\n",
       "    }\n",
       "</style>\n",
       "<table border=\"1\" class=\"dataframe\">\n",
       "  <thead>\n",
       "    <tr style=\"text-align: right;\">\n",
       "      <th></th>\n",
       "      <th>id</th>\n",
       "      <th>name</th>\n",
       "      <th>system</th>\n",
       "    </tr>\n",
       "  </thead>\n",
       "  <tbody>\n",
       "    <tr>\n",
       "      <th>0</th>\n",
       "      <td>001b91e9-2ac5-4949-bff0-bb51d4f3057c</td>\n",
       "      <td>Нарушение в работе  АГВ</td>\n",
       "      <td>MOS_GAS</td>\n",
       "    </tr>\n",
       "    <tr>\n",
       "      <th>1</th>\n",
       "      <td>0089fd48-aa7a-443d-85a5-00470285b076</td>\n",
       "      <td>Проверить на загазованность дюкер Гольяновский</td>\n",
       "      <td>MOS_GAS</td>\n",
       "    </tr>\n",
       "    <tr>\n",
       "      <th>2</th>\n",
       "      <td>016697a2-feef-4568-9629-3c9dddae3aea</td>\n",
       "      <td>Разрушение асфальтового полотна вокруг ковера</td>\n",
       "      <td>MOS_GAS</td>\n",
       "    </tr>\n",
       "    <tr>\n",
       "      <th>3</th>\n",
       "      <td>02212d7e-3c4c-4e6a-8f6b-d4f8f1b82e72</td>\n",
       "      <td>Угроза взрыва; Запах газа в доме</td>\n",
       "      <td>MOS_GAS</td>\n",
       "    </tr>\n",
       "    <tr>\n",
       "      <th>4</th>\n",
       "      <td>0250d455-608a-4d63-9902-ebe3b82d0b67</td>\n",
       "      <td>Запах газа от ГРП</td>\n",
       "      <td>MOS_GAS</td>\n",
       "    </tr>\n",
       "  </tbody>\n",
       "</table>\n",
       "</div>"
      ],
      "text/plain": [
       "                                     id   \n",
       "0  001b91e9-2ac5-4949-bff0-bb51d4f3057c  \\\n",
       "1  0089fd48-aa7a-443d-85a5-00470285b076   \n",
       "2  016697a2-feef-4568-9629-3c9dddae3aea   \n",
       "3  02212d7e-3c4c-4e6a-8f6b-d4f8f1b82e72   \n",
       "4  0250d455-608a-4d63-9902-ebe3b82d0b67   \n",
       "\n",
       "                                             name   system  \n",
       "0                         Нарушение в работе  АГВ  MOS_GAS  \n",
       "1  Проверить на загазованность дюкер Гольяновский  MOS_GAS  \n",
       "2   Разрушение асфальтового полотна вокруг ковера  MOS_GAS  \n",
       "3                Угроза взрыва; Запах газа в доме  MOS_GAS  \n",
       "4                               Запах газа от ГРП  MOS_GAS  "
      ]
     },
     "execution_count": 10,
     "metadata": {},
     "output_type": "execute_result"
    }
   ],
   "source": [
    "# загрузка данных\n",
    "events_df = pd.read_excel(PACH_DATA + data_list[7], sheet_name=\"Лист1\")\n",
    "events_df.head()"
   ]
  },
  {
   "cell_type": "code",
   "execution_count": 11,
   "metadata": {},
   "outputs": [
    {
     "data": {
      "text/plain": [
       "id        0\n",
       "name      1\n",
       "system    0\n",
       "dtype: int64"
      ]
     },
     "execution_count": 11,
     "metadata": {},
     "output_type": "execute_result"
    }
   ],
   "source": [
    "# проверка на наличие пропусков\n",
    "events_df.isna().sum()"
   ]
  },
  {
   "cell_type": "code",
   "execution_count": 12,
   "metadata": {},
   "outputs": [],
   "source": [
    "# удаление пропусков\n",
    "events_df = events_df.dropna()"
   ]
  },
  {
   "cell_type": "code",
   "execution_count": 13,
   "metadata": {},
   "outputs": [
    {
     "data": {
      "text/plain": [
       "46"
      ]
     },
     "execution_count": 13,
     "metadata": {},
     "output_type": "execute_result"
    }
   ],
   "source": [
    "#  проверка на наличие дубликатов\n",
    "events_df.iloc[:,1:].duplicated().sum()"
   ]
  },
  {
   "cell_type": "code",
   "execution_count": 14,
   "metadata": {},
   "outputs": [],
   "source": [
    "# удаление признака \"id\"\n",
    "events_df = events_df.drop(columns=\"id\")"
   ]
  },
  {
   "cell_type": "code",
   "execution_count": 15,
   "metadata": {},
   "outputs": [
    {
     "data": {
      "text/plain": [
       "(949, 2)"
      ]
     },
     "execution_count": 15,
     "metadata": {},
     "output_type": "execute_result"
    }
   ],
   "source": [
    "# размерность данных\n",
    "events_df.shape"
   ]
  },
  {
   "cell_type": "code",
   "execution_count": 16,
   "metadata": {},
   "outputs": [],
   "source": [
    "# удаление дубликатов\n",
    "events_df = events_df.drop_duplicates()"
   ]
  },
  {
   "cell_type": "code",
   "execution_count": 17,
   "metadata": {},
   "outputs": [
    {
     "data": {
      "text/plain": [
       "(903, 2)"
      ]
     },
     "execution_count": 17,
     "metadata": {},
     "output_type": "execute_result"
    }
   ],
   "source": [
    "# размерность данных\n",
    "events_df.shape"
   ]
  },
  {
   "cell_type": "code",
   "execution_count": 18,
   "metadata": {},
   "outputs": [
    {
     "data": {
      "text/plain": [
       "array(['MOS_GAS', 'MVK', 'EDC', 'ASUPR', 'MGI', 'NG', 'EVAGD', 'KGH',\n",
       "       'GORMOST', 'CAFAP'], dtype=object)"
      ]
     },
     "execution_count": 18,
     "metadata": {},
     "output_type": "execute_result"
    }
   ],
   "source": [
    "# наименование систем\n",
    "system_names = events_df[\"system\"].unique()\n",
    "system_names"
   ]
  },
  {
   "cell_type": "code",
   "execution_count": 38,
   "metadata": {},
   "outputs": [],
   "source": [
    "# функция извлечения уникальных наименований событий по системам\n",
    "def get_name(col_name):\n",
    "    names = events_df.query(f\"system  == '{col_name}'\")[\"name\"].values\n",
    "    data = []\n",
    "    for name in names:\n",
    "        if len(name.split(\";\")) == 1:\n",
    "           if name not in data:\n",
    "               data.append(name)\n",
    "        else:\n",
    "            for nam in name.split(\";\"):\n",
    "                if nam not in data:\n",
    "                    data.append(nam)\n",
    "    return {\"incident_type\" : data}"
   ]
  },
  {
   "cell_type": "code",
   "execution_count": 39,
   "metadata": {},
   "outputs": [],
   "source": [
    "# извлечение уникальных наименований событий по системам\n",
    "data = []\n",
    "for col_name in system_names:\n",
    "    df = pd.DataFrame(get_name(col_name))\n",
    "    df[\"system\"] = col_name\n",
    "    data.append(df)"
   ]
  },
  {
   "cell_type": "code",
   "execution_count": 41,
   "metadata": {},
   "outputs": [
    {
     "data": {
      "text/html": [
       "<div>\n",
       "<style scoped>\n",
       "    .dataframe tbody tr th:only-of-type {\n",
       "        vertical-align: middle;\n",
       "    }\n",
       "\n",
       "    .dataframe tbody tr th {\n",
       "        vertical-align: top;\n",
       "    }\n",
       "\n",
       "    .dataframe thead th {\n",
       "        text-align: right;\n",
       "    }\n",
       "</style>\n",
       "<table border=\"1\" class=\"dataframe\">\n",
       "  <thead>\n",
       "    <tr style=\"text-align: right;\">\n",
       "      <th></th>\n",
       "      <th>incident_type</th>\n",
       "      <th>system</th>\n",
       "    </tr>\n",
       "  </thead>\n",
       "  <tbody>\n",
       "    <tr>\n",
       "      <th>0</th>\n",
       "      <td>Нарушение в работе  АГВ</td>\n",
       "      <td>MOS_GAS</td>\n",
       "    </tr>\n",
       "    <tr>\n",
       "      <th>1</th>\n",
       "      <td>Проверить на загазованность дюкер Гольяновский</td>\n",
       "      <td>MOS_GAS</td>\n",
       "    </tr>\n",
       "    <tr>\n",
       "      <th>2</th>\n",
       "      <td>Разрушение асфальтового полотна вокруг ковера</td>\n",
       "      <td>MOS_GAS</td>\n",
       "    </tr>\n",
       "    <tr>\n",
       "      <th>3</th>\n",
       "      <td>Угроза взрыва</td>\n",
       "      <td>MOS_GAS</td>\n",
       "    </tr>\n",
       "    <tr>\n",
       "      <th>4</th>\n",
       "      <td>Запах газа в доме</td>\n",
       "      <td>MOS_GAS</td>\n",
       "    </tr>\n",
       "  </tbody>\n",
       "</table>\n",
       "</div>"
      ],
      "text/plain": [
       "                                    incident_type   system\n",
       "0                         Нарушение в работе  АГВ  MOS_GAS\n",
       "1  Проверить на загазованность дюкер Гольяновский  MOS_GAS\n",
       "2   Разрушение асфальтового полотна вокруг ковера  MOS_GAS\n",
       "3                                   Угроза взрыва  MOS_GAS\n",
       "4                               Запах газа в доме  MOS_GAS"
      ]
     },
     "execution_count": 41,
     "metadata": {},
     "output_type": "execute_result"
    }
   ],
   "source": [
    "# объединение данных\n",
    "events_df = pd.concat(data)\n",
    "events_df.head()"
   ]
  },
  {
   "cell_type": "code",
   "execution_count": 42,
   "metadata": {},
   "outputs": [],
   "source": [
    "# запись данных в файл\n",
    "events_df.to_csv(\"../data/events_df.csv\", index=False)"
   ]
  }
 ],
 "metadata": {
  "kernelspec": {
   "display_name": "venv",
   "language": "python",
   "name": "python3"
  },
  "language_info": {
   "codemirror_mode": {
    "name": "ipython",
    "version": 3
   },
   "file_extension": ".py",
   "mimetype": "text/x-python",
   "name": "python",
   "nbconvert_exporter": "python",
   "pygments_lexer": "ipython3",
   "version": "3.11.3"
  },
  "orig_nbformat": 4
 },
 "nbformat": 4,
 "nbformat_minor": 2
}
